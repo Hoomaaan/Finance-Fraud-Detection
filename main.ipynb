{
 "cells": [
  {
   "cell_type": "code",
   "execution_count": 1,
   "metadata": {},
   "outputs": [],
   "source": [
    "import pandas as pd\n",
    "import matplotlib.pylab as plt\n",
    "import seaborn as sns\n",
    "from sklearn.utils import resample"
   ]
  },
  {
   "cell_type": "code",
   "execution_count": 2,
   "metadata": {},
   "outputs": [
    {
     "data": {
      "text/html": [
       "<div>\n",
       "<style scoped>\n",
       "    .dataframe tbody tr th:only-of-type {\n",
       "        vertical-align: middle;\n",
       "    }\n",
       "\n",
       "    .dataframe tbody tr th {\n",
       "        vertical-align: top;\n",
       "    }\n",
       "\n",
       "    .dataframe thead th {\n",
       "        text-align: right;\n",
       "    }\n",
       "</style>\n",
       "<table border=\"1\" class=\"dataframe\">\n",
       "  <thead>\n",
       "    <tr style=\"text-align: right;\">\n",
       "      <th></th>\n",
       "      <th>Person</th>\n",
       "      <th>Current Age</th>\n",
       "      <th>Retirement Age</th>\n",
       "      <th>Birth Year</th>\n",
       "      <th>Birth Month</th>\n",
       "      <th>Gender</th>\n",
       "      <th>Address</th>\n",
       "      <th>Apartment</th>\n",
       "      <th>City</th>\n",
       "      <th>State</th>\n",
       "      <th>Zipcode</th>\n",
       "      <th>Latitude</th>\n",
       "      <th>Longitude</th>\n",
       "      <th>Per Capita Income - Zipcode</th>\n",
       "      <th>Yearly Income - Person</th>\n",
       "      <th>Total Debt</th>\n",
       "      <th>FICO Score</th>\n",
       "      <th>Num Credit Cards</th>\n",
       "    </tr>\n",
       "  </thead>\n",
       "  <tbody>\n",
       "    <tr>\n",
       "      <th>0</th>\n",
       "      <td>Hazel Robinson</td>\n",
       "      <td>53</td>\n",
       "      <td>66</td>\n",
       "      <td>1966</td>\n",
       "      <td>11</td>\n",
       "      <td>Female</td>\n",
       "      <td>462 Rose Lane</td>\n",
       "      <td>NaN</td>\n",
       "      <td>La Verne</td>\n",
       "      <td>CA</td>\n",
       "      <td>91750</td>\n",
       "      <td>34.15</td>\n",
       "      <td>-117.76</td>\n",
       "      <td>$29278</td>\n",
       "      <td>$59696</td>\n",
       "      <td>$127613</td>\n",
       "      <td>787</td>\n",
       "      <td>5</td>\n",
       "    </tr>\n",
       "    <tr>\n",
       "      <th>1</th>\n",
       "      <td>Sasha Sadr</td>\n",
       "      <td>53</td>\n",
       "      <td>68</td>\n",
       "      <td>1966</td>\n",
       "      <td>12</td>\n",
       "      <td>Female</td>\n",
       "      <td>3606 Federal Boulevard</td>\n",
       "      <td>NaN</td>\n",
       "      <td>Little Neck</td>\n",
       "      <td>NY</td>\n",
       "      <td>11363</td>\n",
       "      <td>40.76</td>\n",
       "      <td>-73.74</td>\n",
       "      <td>$37891</td>\n",
       "      <td>$77254</td>\n",
       "      <td>$191349</td>\n",
       "      <td>701</td>\n",
       "      <td>5</td>\n",
       "    </tr>\n",
       "    <tr>\n",
       "      <th>2</th>\n",
       "      <td>Saanvi Lee</td>\n",
       "      <td>81</td>\n",
       "      <td>67</td>\n",
       "      <td>1938</td>\n",
       "      <td>11</td>\n",
       "      <td>Female</td>\n",
       "      <td>766 Third Drive</td>\n",
       "      <td>NaN</td>\n",
       "      <td>West Covina</td>\n",
       "      <td>CA</td>\n",
       "      <td>91792</td>\n",
       "      <td>34.02</td>\n",
       "      <td>-117.89</td>\n",
       "      <td>$22681</td>\n",
       "      <td>$33483</td>\n",
       "      <td>$196</td>\n",
       "      <td>698</td>\n",
       "      <td>5</td>\n",
       "    </tr>\n",
       "    <tr>\n",
       "      <th>3</th>\n",
       "      <td>Everlee Clark</td>\n",
       "      <td>63</td>\n",
       "      <td>63</td>\n",
       "      <td>1957</td>\n",
       "      <td>1</td>\n",
       "      <td>Female</td>\n",
       "      <td>3 Madison Street</td>\n",
       "      <td>NaN</td>\n",
       "      <td>New York</td>\n",
       "      <td>NY</td>\n",
       "      <td>10069</td>\n",
       "      <td>40.71</td>\n",
       "      <td>-73.99</td>\n",
       "      <td>$163145</td>\n",
       "      <td>$249925</td>\n",
       "      <td>$202328</td>\n",
       "      <td>722</td>\n",
       "      <td>4</td>\n",
       "    </tr>\n",
       "    <tr>\n",
       "      <th>4</th>\n",
       "      <td>Kyle Peterson</td>\n",
       "      <td>43</td>\n",
       "      <td>70</td>\n",
       "      <td>1976</td>\n",
       "      <td>9</td>\n",
       "      <td>Male</td>\n",
       "      <td>9620 Valley Stream Drive</td>\n",
       "      <td>NaN</td>\n",
       "      <td>San Francisco</td>\n",
       "      <td>CA</td>\n",
       "      <td>94117</td>\n",
       "      <td>37.76</td>\n",
       "      <td>-122.44</td>\n",
       "      <td>$53797</td>\n",
       "      <td>$109687</td>\n",
       "      <td>$183855</td>\n",
       "      <td>675</td>\n",
       "      <td>1</td>\n",
       "    </tr>\n",
       "    <tr>\n",
       "      <th>...</th>\n",
       "      <td>...</td>\n",
       "      <td>...</td>\n",
       "      <td>...</td>\n",
       "      <td>...</td>\n",
       "      <td>...</td>\n",
       "      <td>...</td>\n",
       "      <td>...</td>\n",
       "      <td>...</td>\n",
       "      <td>...</td>\n",
       "      <td>...</td>\n",
       "      <td>...</td>\n",
       "      <td>...</td>\n",
       "      <td>...</td>\n",
       "      <td>...</td>\n",
       "      <td>...</td>\n",
       "      <td>...</td>\n",
       "      <td>...</td>\n",
       "      <td>...</td>\n",
       "    </tr>\n",
       "    <tr>\n",
       "      <th>1995</th>\n",
       "      <td>Jose Faraday</td>\n",
       "      <td>32</td>\n",
       "      <td>70</td>\n",
       "      <td>1987</td>\n",
       "      <td>7</td>\n",
       "      <td>Male</td>\n",
       "      <td>6577 Lexington Lane</td>\n",
       "      <td>9.0</td>\n",
       "      <td>Freeport</td>\n",
       "      <td>NY</td>\n",
       "      <td>11520</td>\n",
       "      <td>40.65</td>\n",
       "      <td>-73.58</td>\n",
       "      <td>$23550</td>\n",
       "      <td>$48010</td>\n",
       "      <td>$87837</td>\n",
       "      <td>703</td>\n",
       "      <td>3</td>\n",
       "    </tr>\n",
       "    <tr>\n",
       "      <th>1996</th>\n",
       "      <td>Ximena Richardson</td>\n",
       "      <td>62</td>\n",
       "      <td>65</td>\n",
       "      <td>1957</td>\n",
       "      <td>11</td>\n",
       "      <td>Female</td>\n",
       "      <td>2 Elm Drive</td>\n",
       "      <td>955.0</td>\n",
       "      <td>Independence</td>\n",
       "      <td>KY</td>\n",
       "      <td>41051</td>\n",
       "      <td>38.95</td>\n",
       "      <td>-84.54</td>\n",
       "      <td>$24218</td>\n",
       "      <td>$49378</td>\n",
       "      <td>$104480</td>\n",
       "      <td>740</td>\n",
       "      <td>4</td>\n",
       "    </tr>\n",
       "    <tr>\n",
       "      <th>1997</th>\n",
       "      <td>Annika Russell</td>\n",
       "      <td>47</td>\n",
       "      <td>67</td>\n",
       "      <td>1973</td>\n",
       "      <td>1</td>\n",
       "      <td>Female</td>\n",
       "      <td>276 Fifth Boulevard</td>\n",
       "      <td>NaN</td>\n",
       "      <td>Elizabeth</td>\n",
       "      <td>NJ</td>\n",
       "      <td>7201</td>\n",
       "      <td>40.66</td>\n",
       "      <td>-74.19</td>\n",
       "      <td>$15175</td>\n",
       "      <td>$30942</td>\n",
       "      <td>$71066</td>\n",
       "      <td>779</td>\n",
       "      <td>3</td>\n",
       "    </tr>\n",
       "    <tr>\n",
       "      <th>1998</th>\n",
       "      <td>Juelz Roman</td>\n",
       "      <td>66</td>\n",
       "      <td>60</td>\n",
       "      <td>1954</td>\n",
       "      <td>2</td>\n",
       "      <td>Male</td>\n",
       "      <td>259 Valley Boulevard</td>\n",
       "      <td>NaN</td>\n",
       "      <td>Camp Hill</td>\n",
       "      <td>PA</td>\n",
       "      <td>17011</td>\n",
       "      <td>40.24</td>\n",
       "      <td>-76.92</td>\n",
       "      <td>$25336</td>\n",
       "      <td>$54654</td>\n",
       "      <td>$27241</td>\n",
       "      <td>618</td>\n",
       "      <td>1</td>\n",
       "    </tr>\n",
       "    <tr>\n",
       "      <th>1999</th>\n",
       "      <td>Kenia Harris</td>\n",
       "      <td>21</td>\n",
       "      <td>60</td>\n",
       "      <td>1998</td>\n",
       "      <td>11</td>\n",
       "      <td>Female</td>\n",
       "      <td>472 Ocean View Street</td>\n",
       "      <td>NaN</td>\n",
       "      <td>Merrimack</td>\n",
       "      <td>NH</td>\n",
       "      <td>3054</td>\n",
       "      <td>42.86</td>\n",
       "      <td>-71.48</td>\n",
       "      <td>$32325</td>\n",
       "      <td>$65909</td>\n",
       "      <td>$181261</td>\n",
       "      <td>673</td>\n",
       "      <td>2</td>\n",
       "    </tr>\n",
       "  </tbody>\n",
       "</table>\n",
       "<p>2000 rows × 18 columns</p>\n",
       "</div>"
      ],
      "text/plain": [
       "                 Person  Current Age  Retirement Age  Birth Year  Birth Month  \\\n",
       "0        Hazel Robinson           53              66        1966           11   \n",
       "1            Sasha Sadr           53              68        1966           12   \n",
       "2            Saanvi Lee           81              67        1938           11   \n",
       "3         Everlee Clark           63              63        1957            1   \n",
       "4         Kyle Peterson           43              70        1976            9   \n",
       "...                 ...          ...             ...         ...          ...   \n",
       "1995       Jose Faraday           32              70        1987            7   \n",
       "1996  Ximena Richardson           62              65        1957           11   \n",
       "1997     Annika Russell           47              67        1973            1   \n",
       "1998        Juelz Roman           66              60        1954            2   \n",
       "1999       Kenia Harris           21              60        1998           11   \n",
       "\n",
       "      Gender                   Address  Apartment           City State  \\\n",
       "0     Female             462 Rose Lane        NaN       La Verne    CA   \n",
       "1     Female    3606 Federal Boulevard        NaN    Little Neck    NY   \n",
       "2     Female           766 Third Drive        NaN    West Covina    CA   \n",
       "3     Female          3 Madison Street        NaN       New York    NY   \n",
       "4       Male  9620 Valley Stream Drive        NaN  San Francisco    CA   \n",
       "...      ...                       ...        ...            ...   ...   \n",
       "1995    Male       6577 Lexington Lane        9.0       Freeport    NY   \n",
       "1996  Female               2 Elm Drive      955.0   Independence    KY   \n",
       "1997  Female       276 Fifth Boulevard        NaN      Elizabeth    NJ   \n",
       "1998    Male      259 Valley Boulevard        NaN      Camp Hill    PA   \n",
       "1999  Female     472 Ocean View Street        NaN      Merrimack    NH   \n",
       "\n",
       "      Zipcode  Latitude  Longitude Per Capita Income - Zipcode  \\\n",
       "0       91750     34.15    -117.76                      $29278   \n",
       "1       11363     40.76     -73.74                      $37891   \n",
       "2       91792     34.02    -117.89                      $22681   \n",
       "3       10069     40.71     -73.99                     $163145   \n",
       "4       94117     37.76    -122.44                      $53797   \n",
       "...       ...       ...        ...                         ...   \n",
       "1995    11520     40.65     -73.58                      $23550   \n",
       "1996    41051     38.95     -84.54                      $24218   \n",
       "1997     7201     40.66     -74.19                      $15175   \n",
       "1998    17011     40.24     -76.92                      $25336   \n",
       "1999     3054     42.86     -71.48                      $32325   \n",
       "\n",
       "     Yearly Income - Person Total Debt  FICO Score  Num Credit Cards  \n",
       "0                    $59696    $127613         787                 5  \n",
       "1                    $77254    $191349         701                 5  \n",
       "2                    $33483       $196         698                 5  \n",
       "3                   $249925    $202328         722                 4  \n",
       "4                   $109687    $183855         675                 1  \n",
       "...                     ...        ...         ...               ...  \n",
       "1995                 $48010     $87837         703                 3  \n",
       "1996                 $49378    $104480         740                 4  \n",
       "1997                 $30942     $71066         779                 3  \n",
       "1998                 $54654     $27241         618                 1  \n",
       "1999                 $65909    $181261         673                 2  \n",
       "\n",
       "[2000 rows x 18 columns]"
      ]
     },
     "execution_count": 2,
     "metadata": {},
     "output_type": "execute_result"
    }
   ],
   "source": [
    "users_df = pd.read_parquet('data/credit_card_users_de.parquet')\n",
    "users_df"
   ]
  },
  {
   "cell_type": "code",
   "execution_count": 3,
   "metadata": {},
   "outputs": [
    {
     "data": {
      "text/html": [
       "<div>\n",
       "<style scoped>\n",
       "    .dataframe tbody tr th:only-of-type {\n",
       "        vertical-align: middle;\n",
       "    }\n",
       "\n",
       "    .dataframe tbody tr th {\n",
       "        vertical-align: top;\n",
       "    }\n",
       "\n",
       "    .dataframe thead th {\n",
       "        text-align: right;\n",
       "    }\n",
       "</style>\n",
       "<table border=\"1\" class=\"dataframe\">\n",
       "  <thead>\n",
       "    <tr style=\"text-align: right;\">\n",
       "      <th></th>\n",
       "      <th>User</th>\n",
       "      <th>CARD INDEX</th>\n",
       "      <th>Card Brand</th>\n",
       "      <th>Card Type</th>\n",
       "      <th>Card Number</th>\n",
       "      <th>Expires</th>\n",
       "      <th>CVV</th>\n",
       "      <th>Has Chip</th>\n",
       "      <th>Cards Issued</th>\n",
       "      <th>Credit Limit</th>\n",
       "      <th>Acct Open Date</th>\n",
       "      <th>Year PIN last Changed</th>\n",
       "      <th>Card on Dark Web</th>\n",
       "    </tr>\n",
       "  </thead>\n",
       "  <tbody>\n",
       "    <tr>\n",
       "      <th>0</th>\n",
       "      <td>0</td>\n",
       "      <td>0</td>\n",
       "      <td>Visa</td>\n",
       "      <td>Debit</td>\n",
       "      <td>4344676511950444</td>\n",
       "      <td>12/2022</td>\n",
       "      <td>623</td>\n",
       "      <td>YES</td>\n",
       "      <td>2</td>\n",
       "      <td>$24295</td>\n",
       "      <td>09/2002</td>\n",
       "      <td>2008</td>\n",
       "      <td>No</td>\n",
       "    </tr>\n",
       "    <tr>\n",
       "      <th>1</th>\n",
       "      <td>0</td>\n",
       "      <td>1</td>\n",
       "      <td>Visa</td>\n",
       "      <td>Debit</td>\n",
       "      <td>4956965974959986</td>\n",
       "      <td>12/2020</td>\n",
       "      <td>393</td>\n",
       "      <td>YES</td>\n",
       "      <td>2</td>\n",
       "      <td>$21968</td>\n",
       "      <td>04/2014</td>\n",
       "      <td>2014</td>\n",
       "      <td>No</td>\n",
       "    </tr>\n",
       "    <tr>\n",
       "      <th>2</th>\n",
       "      <td>0</td>\n",
       "      <td>2</td>\n",
       "      <td>Visa</td>\n",
       "      <td>Debit</td>\n",
       "      <td>4582313478255491</td>\n",
       "      <td>02/2024</td>\n",
       "      <td>719</td>\n",
       "      <td>YES</td>\n",
       "      <td>2</td>\n",
       "      <td>$46414</td>\n",
       "      <td>07/2003</td>\n",
       "      <td>2004</td>\n",
       "      <td>No</td>\n",
       "    </tr>\n",
       "    <tr>\n",
       "      <th>3</th>\n",
       "      <td>0</td>\n",
       "      <td>3</td>\n",
       "      <td>Visa</td>\n",
       "      <td>Credit</td>\n",
       "      <td>4879494103069057</td>\n",
       "      <td>08/2024</td>\n",
       "      <td>693</td>\n",
       "      <td>NO</td>\n",
       "      <td>1</td>\n",
       "      <td>$12400</td>\n",
       "      <td>01/2003</td>\n",
       "      <td>2012</td>\n",
       "      <td>No</td>\n",
       "    </tr>\n",
       "    <tr>\n",
       "      <th>4</th>\n",
       "      <td>0</td>\n",
       "      <td>4</td>\n",
       "      <td>Mastercard</td>\n",
       "      <td>Debit (Prepaid)</td>\n",
       "      <td>5722874738736011</td>\n",
       "      <td>03/2009</td>\n",
       "      <td>75</td>\n",
       "      <td>YES</td>\n",
       "      <td>1</td>\n",
       "      <td>$28</td>\n",
       "      <td>09/2008</td>\n",
       "      <td>2009</td>\n",
       "      <td>No</td>\n",
       "    </tr>\n",
       "  </tbody>\n",
       "</table>\n",
       "</div>"
      ],
      "text/plain": [
       "   User  CARD INDEX  Card Brand        Card Type       Card Number  Expires  \\\n",
       "0     0           0        Visa            Debit  4344676511950444  12/2022   \n",
       "1     0           1        Visa            Debit  4956965974959986  12/2020   \n",
       "2     0           2        Visa            Debit  4582313478255491  02/2024   \n",
       "3     0           3        Visa           Credit  4879494103069057  08/2024   \n",
       "4     0           4  Mastercard  Debit (Prepaid)  5722874738736011  03/2009   \n",
       "\n",
       "   CVV Has Chip  Cards Issued Credit Limit Acct Open Date  \\\n",
       "0  623      YES             2       $24295        09/2002   \n",
       "1  393      YES             2       $21968        04/2014   \n",
       "2  719      YES             2       $46414        07/2003   \n",
       "3  693       NO             1       $12400        01/2003   \n",
       "4   75      YES             1          $28        09/2008   \n",
       "\n",
       "   Year PIN last Changed Card on Dark Web  \n",
       "0                   2008               No  \n",
       "1                   2014               No  \n",
       "2                   2004               No  \n",
       "3                   2012               No  \n",
       "4                   2009               No  "
      ]
     },
     "execution_count": 3,
     "metadata": {},
     "output_type": "execute_result"
    }
   ],
   "source": [
    "cards_df = pd.read_parquet('data/sd254_cards_de.parquet')\n",
    "cards_df.head()"
   ]
  },
  {
   "cell_type": "code",
   "execution_count": 4,
   "metadata": {},
   "outputs": [
    {
     "data": {
      "text/html": [
       "<div>\n",
       "<style scoped>\n",
       "    .dataframe tbody tr th:only-of-type {\n",
       "        vertical-align: middle;\n",
       "    }\n",
       "\n",
       "    .dataframe tbody tr th {\n",
       "        vertical-align: top;\n",
       "    }\n",
       "\n",
       "    .dataframe thead th {\n",
       "        text-align: right;\n",
       "    }\n",
       "</style>\n",
       "<table border=\"1\" class=\"dataframe\">\n",
       "  <thead>\n",
       "    <tr style=\"text-align: right;\">\n",
       "      <th></th>\n",
       "      <th>User</th>\n",
       "      <th>Card</th>\n",
       "      <th>Year</th>\n",
       "      <th>Month</th>\n",
       "      <th>Day</th>\n",
       "      <th>Time</th>\n",
       "      <th>Amount</th>\n",
       "      <th>Use Chip</th>\n",
       "      <th>Merchant Name</th>\n",
       "      <th>Merchant City</th>\n",
       "      <th>Merchant State</th>\n",
       "      <th>Zip</th>\n",
       "      <th>MCC</th>\n",
       "      <th>Errors?</th>\n",
       "      <th>Is Fraud?</th>\n",
       "    </tr>\n",
       "  </thead>\n",
       "  <tbody>\n",
       "    <tr>\n",
       "      <th>4136</th>\n",
       "      <td>0</td>\n",
       "      <td>0</td>\n",
       "      <td>2016</td>\n",
       "      <td>1</td>\n",
       "      <td>3</td>\n",
       "      <td>10:48</td>\n",
       "      <td>$66.48</td>\n",
       "      <td>Chip Transaction</td>\n",
       "      <td>-3345936507911876459</td>\n",
       "      <td>La Verne</td>\n",
       "      <td>CA</td>\n",
       "      <td>91750.0</td>\n",
       "      <td>7538</td>\n",
       "      <td>None</td>\n",
       "      <td>No</td>\n",
       "    </tr>\n",
       "    <tr>\n",
       "      <th>4137</th>\n",
       "      <td>0</td>\n",
       "      <td>0</td>\n",
       "      <td>2016</td>\n",
       "      <td>1</td>\n",
       "      <td>4</td>\n",
       "      <td>06:43</td>\n",
       "      <td>$40.02</td>\n",
       "      <td>Chip Transaction</td>\n",
       "      <td>-34551508091458520</td>\n",
       "      <td>La Verne</td>\n",
       "      <td>CA</td>\n",
       "      <td>91750.0</td>\n",
       "      <td>5912</td>\n",
       "      <td>None</td>\n",
       "      <td>No</td>\n",
       "    </tr>\n",
       "    <tr>\n",
       "      <th>4138</th>\n",
       "      <td>0</td>\n",
       "      <td>0</td>\n",
       "      <td>2016</td>\n",
       "      <td>1</td>\n",
       "      <td>7</td>\n",
       "      <td>09:30</td>\n",
       "      <td>$54.11</td>\n",
       "      <td>Chip Transaction</td>\n",
       "      <td>4055257078481058705</td>\n",
       "      <td>La Verne</td>\n",
       "      <td>CA</td>\n",
       "      <td>91750.0</td>\n",
       "      <td>7538</td>\n",
       "      <td>None</td>\n",
       "      <td>No</td>\n",
       "    </tr>\n",
       "    <tr>\n",
       "      <th>4139</th>\n",
       "      <td>0</td>\n",
       "      <td>0</td>\n",
       "      <td>2016</td>\n",
       "      <td>1</td>\n",
       "      <td>7</td>\n",
       "      <td>16:03</td>\n",
       "      <td>$89.48</td>\n",
       "      <td>Chip Transaction</td>\n",
       "      <td>3414527459579106770</td>\n",
       "      <td>Monterey Park</td>\n",
       "      <td>CA</td>\n",
       "      <td>91754.0</td>\n",
       "      <td>5651</td>\n",
       "      <td>None</td>\n",
       "      <td>No</td>\n",
       "    </tr>\n",
       "    <tr>\n",
       "      <th>4140</th>\n",
       "      <td>0</td>\n",
       "      <td>0</td>\n",
       "      <td>2016</td>\n",
       "      <td>1</td>\n",
       "      <td>10</td>\n",
       "      <td>06:38</td>\n",
       "      <td>$29.15</td>\n",
       "      <td>Chip Transaction</td>\n",
       "      <td>-5475680618560174533</td>\n",
       "      <td>Monterey Park</td>\n",
       "      <td>CA</td>\n",
       "      <td>91755.0</td>\n",
       "      <td>5942</td>\n",
       "      <td>None</td>\n",
       "      <td>No</td>\n",
       "    </tr>\n",
       "  </tbody>\n",
       "</table>\n",
       "</div>"
      ],
      "text/plain": [
       "      User  Card  Year  Month  Day   Time  Amount          Use Chip  \\\n",
       "4136     0     0  2016      1    3  10:48  $66.48  Chip Transaction   \n",
       "4137     0     0  2016      1    4  06:43  $40.02  Chip Transaction   \n",
       "4138     0     0  2016      1    7  09:30  $54.11  Chip Transaction   \n",
       "4139     0     0  2016      1    7  16:03  $89.48  Chip Transaction   \n",
       "4140     0     0  2016      1   10  06:38  $29.15  Chip Transaction   \n",
       "\n",
       "            Merchant Name  Merchant City Merchant State      Zip   MCC  \\\n",
       "4136 -3345936507911876459       La Verne             CA  91750.0  7538   \n",
       "4137   -34551508091458520       La Verne             CA  91750.0  5912   \n",
       "4138  4055257078481058705       La Verne             CA  91750.0  7538   \n",
       "4139  3414527459579106770  Monterey Park             CA  91754.0  5651   \n",
       "4140 -5475680618560174533  Monterey Park             CA  91755.0  5942   \n",
       "\n",
       "     Errors? Is Fraud?  \n",
       "4136    None        No  \n",
       "4137    None        No  \n",
       "4138    None        No  \n",
       "4139    None        No  \n",
       "4140    None        No  "
      ]
     },
     "execution_count": 4,
     "metadata": {},
     "output_type": "execute_result"
    }
   ],
   "source": [
    "transactions_df = pd.read_parquet('data/credit_card_transaction_data_de.parquet')\n",
    "transactions_df.head()"
   ]
  },
  {
   "cell_type": "markdown",
   "metadata": {},
   "source": [
    "##### Explore the data"
   ]
  },
  {
   "cell_type": "code",
   "execution_count": 5,
   "metadata": {},
   "outputs": [
    {
     "data": {
      "text/html": [
       "<div>\n",
       "<style scoped>\n",
       "    .dataframe tbody tr th:only-of-type {\n",
       "        vertical-align: middle;\n",
       "    }\n",
       "\n",
       "    .dataframe tbody tr th {\n",
       "        vertical-align: top;\n",
       "    }\n",
       "\n",
       "    .dataframe thead th {\n",
       "        text-align: right;\n",
       "    }\n",
       "</style>\n",
       "<table border=\"1\" class=\"dataframe\">\n",
       "  <thead>\n",
       "    <tr style=\"text-align: right;\">\n",
       "      <th></th>\n",
       "      <th>Current Age</th>\n",
       "      <th>Retirement Age</th>\n",
       "      <th>Birth Year</th>\n",
       "      <th>Birth Month</th>\n",
       "      <th>Apartment</th>\n",
       "      <th>Zipcode</th>\n",
       "      <th>Latitude</th>\n",
       "      <th>Longitude</th>\n",
       "      <th>FICO Score</th>\n",
       "      <th>Num Credit Cards</th>\n",
       "    </tr>\n",
       "  </thead>\n",
       "  <tbody>\n",
       "    <tr>\n",
       "      <th>count</th>\n",
       "      <td>2000.000000</td>\n",
       "      <td>2000.000000</td>\n",
       "      <td>2000.000000</td>\n",
       "      <td>2000.000000</td>\n",
       "      <td>528.000000</td>\n",
       "      <td>2000.000000</td>\n",
       "      <td>2000.000000</td>\n",
       "      <td>2000.000000</td>\n",
       "      <td>2000.000000</td>\n",
       "      <td>2000.000000</td>\n",
       "    </tr>\n",
       "    <tr>\n",
       "      <th>mean</th>\n",
       "      <td>45.391500</td>\n",
       "      <td>66.237500</td>\n",
       "      <td>1973.803000</td>\n",
       "      <td>6.439000</td>\n",
       "      <td>693.547348</td>\n",
       "      <td>50535.412000</td>\n",
       "      <td>37.389225</td>\n",
       "      <td>-91.554765</td>\n",
       "      <td>709.734500</td>\n",
       "      <td>3.073000</td>\n",
       "    </tr>\n",
       "    <tr>\n",
       "      <th>std</th>\n",
       "      <td>18.414092</td>\n",
       "      <td>3.628867</td>\n",
       "      <td>18.421234</td>\n",
       "      <td>3.565338</td>\n",
       "      <td>1897.157861</td>\n",
       "      <td>29359.754742</td>\n",
       "      <td>5.114324</td>\n",
       "      <td>16.283293</td>\n",
       "      <td>67.221949</td>\n",
       "      <td>1.637379</td>\n",
       "    </tr>\n",
       "    <tr>\n",
       "      <th>min</th>\n",
       "      <td>18.000000</td>\n",
       "      <td>50.000000</td>\n",
       "      <td>1918.000000</td>\n",
       "      <td>1.000000</td>\n",
       "      <td>1.000000</td>\n",
       "      <td>1060.000000</td>\n",
       "      <td>20.880000</td>\n",
       "      <td>-159.410000</td>\n",
       "      <td>480.000000</td>\n",
       "      <td>1.000000</td>\n",
       "    </tr>\n",
       "    <tr>\n",
       "      <th>25%</th>\n",
       "      <td>30.000000</td>\n",
       "      <td>65.000000</td>\n",
       "      <td>1961.000000</td>\n",
       "      <td>3.000000</td>\n",
       "      <td>5.000000</td>\n",
       "      <td>28214.250000</td>\n",
       "      <td>33.837500</td>\n",
       "      <td>-97.395000</td>\n",
       "      <td>681.000000</td>\n",
       "      <td>2.000000</td>\n",
       "    </tr>\n",
       "    <tr>\n",
       "      <th>50%</th>\n",
       "      <td>44.000000</td>\n",
       "      <td>66.000000</td>\n",
       "      <td>1975.000000</td>\n",
       "      <td>7.000000</td>\n",
       "      <td>10.000000</td>\n",
       "      <td>46305.500000</td>\n",
       "      <td>38.250000</td>\n",
       "      <td>-86.440000</td>\n",
       "      <td>711.500000</td>\n",
       "      <td>3.000000</td>\n",
       "    </tr>\n",
       "    <tr>\n",
       "      <th>75%</th>\n",
       "      <td>58.000000</td>\n",
       "      <td>68.000000</td>\n",
       "      <td>1989.000000</td>\n",
       "      <td>10.000000</td>\n",
       "      <td>95.250000</td>\n",
       "      <td>77086.250000</td>\n",
       "      <td>41.200000</td>\n",
       "      <td>-80.130000</td>\n",
       "      <td>753.000000</td>\n",
       "      <td>4.000000</td>\n",
       "    </tr>\n",
       "    <tr>\n",
       "      <th>max</th>\n",
       "      <td>101.000000</td>\n",
       "      <td>79.000000</td>\n",
       "      <td>2002.000000</td>\n",
       "      <td>12.000000</td>\n",
       "      <td>9940.000000</td>\n",
       "      <td>99508.000000</td>\n",
       "      <td>61.200000</td>\n",
       "      <td>-68.670000</td>\n",
       "      <td>850.000000</td>\n",
       "      <td>9.000000</td>\n",
       "    </tr>\n",
       "  </tbody>\n",
       "</table>\n",
       "</div>"
      ],
      "text/plain": [
       "       Current Age  Retirement Age   Birth Year  Birth Month    Apartment  \\\n",
       "count  2000.000000     2000.000000  2000.000000  2000.000000   528.000000   \n",
       "mean     45.391500       66.237500  1973.803000     6.439000   693.547348   \n",
       "std      18.414092        3.628867    18.421234     3.565338  1897.157861   \n",
       "min      18.000000       50.000000  1918.000000     1.000000     1.000000   \n",
       "25%      30.000000       65.000000  1961.000000     3.000000     5.000000   \n",
       "50%      44.000000       66.000000  1975.000000     7.000000    10.000000   \n",
       "75%      58.000000       68.000000  1989.000000    10.000000    95.250000   \n",
       "max     101.000000       79.000000  2002.000000    12.000000  9940.000000   \n",
       "\n",
       "            Zipcode     Latitude    Longitude   FICO Score  Num Credit Cards  \n",
       "count   2000.000000  2000.000000  2000.000000  2000.000000       2000.000000  \n",
       "mean   50535.412000    37.389225   -91.554765   709.734500          3.073000  \n",
       "std    29359.754742     5.114324    16.283293    67.221949          1.637379  \n",
       "min     1060.000000    20.880000  -159.410000   480.000000          1.000000  \n",
       "25%    28214.250000    33.837500   -97.395000   681.000000          2.000000  \n",
       "50%    46305.500000    38.250000   -86.440000   711.500000          3.000000  \n",
       "75%    77086.250000    41.200000   -80.130000   753.000000          4.000000  \n",
       "max    99508.000000    61.200000   -68.670000   850.000000          9.000000  "
      ]
     },
     "execution_count": 5,
     "metadata": {},
     "output_type": "execute_result"
    }
   ],
   "source": [
    "users_df.describe()"
   ]
  },
  {
   "cell_type": "code",
   "execution_count": 6,
   "metadata": {},
   "outputs": [
    {
     "name": "stdout",
     "output_type": "stream",
     "text": [
      "<class 'pandas.core.frame.DataFrame'>\n",
      "RangeIndex: 2000 entries, 0 to 1999\n",
      "Data columns (total 18 columns):\n",
      " #   Column                       Non-Null Count  Dtype  \n",
      "---  ------                       --------------  -----  \n",
      " 0   Person                       2000 non-null   object \n",
      " 1   Current Age                  2000 non-null   int64  \n",
      " 2   Retirement Age               2000 non-null   int64  \n",
      " 3   Birth Year                   2000 non-null   int64  \n",
      " 4   Birth Month                  2000 non-null   int64  \n",
      " 5   Gender                       2000 non-null   object \n",
      " 6   Address                      2000 non-null   object \n",
      " 7   Apartment                    528 non-null    float64\n",
      " 8   City                         2000 non-null   object \n",
      " 9   State                        2000 non-null   object \n",
      " 10  Zipcode                      2000 non-null   int64  \n",
      " 11  Latitude                     2000 non-null   float64\n",
      " 12  Longitude                    2000 non-null   float64\n",
      " 13  Per Capita Income - Zipcode  2000 non-null   object \n",
      " 14  Yearly Income - Person       2000 non-null   object \n",
      " 15  Total Debt                   2000 non-null   object \n",
      " 16  FICO Score                   2000 non-null   int64  \n",
      " 17  Num Credit Cards             2000 non-null   int64  \n",
      "dtypes: float64(3), int64(7), object(8)\n",
      "memory usage: 281.4+ KB\n"
     ]
    }
   ],
   "source": [
    "users_df.info()"
   ]
  },
  {
   "cell_type": "code",
   "execution_count": 7,
   "metadata": {},
   "outputs": [],
   "source": [
    "users_df = users_df.drop('Apartment', axis=1)"
   ]
  },
  {
   "cell_type": "code",
   "execution_count": 8,
   "metadata": {},
   "outputs": [
    {
     "name": "stdout",
     "output_type": "stream",
     "text": [
      "<class 'pandas.core.frame.DataFrame'>\n",
      "RangeIndex: 6146 entries, 0 to 6145\n",
      "Data columns (total 13 columns):\n",
      " #   Column                 Non-Null Count  Dtype \n",
      "---  ------                 --------------  ----- \n",
      " 0   User                   6146 non-null   int64 \n",
      " 1   CARD INDEX             6146 non-null   int64 \n",
      " 2   Card Brand             6146 non-null   object\n",
      " 3   Card Type              6146 non-null   object\n",
      " 4   Card Number            6146 non-null   int64 \n",
      " 5   Expires                6146 non-null   object\n",
      " 6   CVV                    6146 non-null   int64 \n",
      " 7   Has Chip               6146 non-null   object\n",
      " 8   Cards Issued           6146 non-null   int64 \n",
      " 9   Credit Limit           6146 non-null   object\n",
      " 10  Acct Open Date         6146 non-null   object\n",
      " 11  Year PIN last Changed  6146 non-null   int64 \n",
      " 12  Card on Dark Web       6146 non-null   object\n",
      "dtypes: int64(6), object(7)\n",
      "memory usage: 624.3+ KB\n"
     ]
    }
   ],
   "source": [
    "cards_df.info()"
   ]
  },
  {
   "cell_type": "code",
   "execution_count": 9,
   "metadata": {},
   "outputs": [
    {
     "name": "stdout",
     "output_type": "stream",
     "text": [
      "<class 'pandas.core.frame.DataFrame'>\n",
      "Int64Index: 6877837 entries, 4136 to 24386731\n",
      "Data columns (total 15 columns):\n",
      " #   Column          Dtype  \n",
      "---  ------          -----  \n",
      " 0   User            int64  \n",
      " 1   Card            int64  \n",
      " 2   Year            int64  \n",
      " 3   Month           int64  \n",
      " 4   Day             int64  \n",
      " 5   Time            object \n",
      " 6   Amount          object \n",
      " 7   Use Chip        object \n",
      " 8   Merchant Name   int64  \n",
      " 9   Merchant City   object \n",
      " 10  Merchant State  object \n",
      " 11  Zip             float64\n",
      " 12  MCC             int64  \n",
      " 13  Errors?         object \n",
      " 14  Is Fraud?       object \n",
      "dtypes: float64(1), int64(7), object(7)\n",
      "memory usage: 839.6+ MB\n"
     ]
    }
   ],
   "source": [
    "transactions_df.info()"
   ]
  },
  {
   "cell_type": "code",
   "execution_count": 10,
   "metadata": {},
   "outputs": [
    {
     "data": {
      "text/plain": [
       "<Axes: xlabel='Longitude', ylabel='Latitude'>"
      ]
     },
     "execution_count": 10,
     "metadata": {},
     "output_type": "execute_result"
    },
    {
     "data": {
      "image/png": "[encoded data removed]",
      "text/plain": [
       "<Figure size 640x480 with 1 Axes>"
      ]
     },
     "metadata": {},
     "output_type": "display_data"
    }
   ],
   "source": [
    "# see users data locations\n",
    "sns.scatterplot(data=users_df, x='Longitude', y='Latitude', hue='Gender')"
   ]
  },
  {
   "cell_type": "code",
   "execution_count": 11,
   "metadata": {},
   "outputs": [
    {
     "data": {
      "text/plain": [
       "<Axes: xlabel='Longitude', ylabel='Latitude'>"
      ]
     },
     "execution_count": 11,
     "metadata": {},
     "output_type": "execute_result"
    },
    {
     "data": {
      "image/png": "[encoded data removed]",
      "text/plain": [
       "<Figure size 1000x500 with 1 Axes>"
      ]
     },
     "metadata": {},
     "output_type": "display_data"
    }
   ],
   "source": [
    "# Visualize the records based on their location on the map and the number of credict cards they have. The size of each marker is the users FICO score.\n",
    "plt.figure(figsize=(10, 5))\n",
    "sns.scatterplot(data=users_df, x='Longitude', y='Latitude', hue='Num Credit Cards', size='FICO Score')"
   ]
  },
  {
   "cell_type": "code",
   "execution_count": 12,
   "metadata": {},
   "outputs": [
    {
     "data": {
      "text/plain": [
       "<Axes: xlabel='Gender', ylabel='count'>"
      ]
     },
     "execution_count": 12,
     "metadata": {},
     "output_type": "execute_result"
    },
    {
     "data": {
      "image/png": "[encoded data removed]",
      "text/plain": [
       "<Figure size 640x480 with 1 Axes>"
      ]
     },
     "metadata": {},
     "output_type": "display_data"
    }
   ],
   "source": [
    "# Check what is the ratio of the  male and female in the dataset\n",
    "sns.countplot(data=users_df, x='Gender')"
   ]
  },
  {
   "cell_type": "code",
   "execution_count": 13,
   "metadata": {},
   "outputs": [
    {
     "data": {
      "text/plain": [
       "<Axes: xlabel='Card Brand', ylabel='count'>"
      ]
     },
     "execution_count": 13,
     "metadata": {},
     "output_type": "execute_result"
    },
    {
     "data": {
      "image/png": "[encoded data removed]",
      "text/plain": [
       "<Figure size 640x480 with 1 Axes>"
      ]
     },
     "metadata": {},
     "output_type": "display_data"
    }
   ],
   "source": [
    "# Check how many cards we have for each brand\n",
    "sns.countplot(data=cards_df, x='Card Brand')"
   ]
  },
  {
   "cell_type": "markdown",
   "metadata": {},
   "source": [
    "It is important to know how many brands do we have in the data to be able to find which card has more potential for fraud."
   ]
  },
  {
   "cell_type": "code",
   "execution_count": 14,
   "metadata": {},
   "outputs": [
    {
     "data": {
      "text/plain": [
       "Index(['User', 'CARD INDEX', 'Card Brand', 'Card Type', 'Card Number',\n",
       "       'Expires', 'CVV', 'Has Chip', 'Cards Issued', 'Credit Limit',\n",
       "       'Acct Open Date', 'Year PIN last Changed', 'Card on Dark Web'],\n",
       "      dtype='object')"
      ]
     },
     "execution_count": 14,
     "metadata": {},
     "output_type": "execute_result"
    }
   ],
   "source": [
    "cards_df.columns"
   ]
  },
  {
   "cell_type": "code",
   "execution_count": 15,
   "metadata": {},
   "outputs": [
    {
     "data": {
      "text/plain": [
       "<Axes: xlabel='Card Brand', ylabel='count'>"
      ]
     },
     "execution_count": 15,
     "metadata": {},
     "output_type": "execute_result"
    },
    {
     "data": {
      "image/png": "[encoded data removed]",
      "text/plain": [
       "<Figure size 640x480 with 1 Axes>"
      ]
     },
     "metadata": {},
     "output_type": "display_data"
    }
   ],
   "source": [
    "sns.countplot(data=cards_df, x='Card Brand', hue='Card on Dark Web')"
   ]
  },
  {
   "cell_type": "markdown",
   "metadata": {},
   "source": [
    "It appears all the crads information we have are not on dard web. Therefore, it is safe to drop that column."
   ]
  },
  {
   "cell_type": "code",
   "execution_count": 16,
   "metadata": {},
   "outputs": [
    {
     "data": {
      "text/html": [
       "<div>\n",
       "<style scoped>\n",
       "    .dataframe tbody tr th:only-of-type {\n",
       "        vertical-align: middle;\n",
       "    }\n",
       "\n",
       "    .dataframe tbody tr th {\n",
       "        vertical-align: top;\n",
       "    }\n",
       "\n",
       "    .dataframe thead th {\n",
       "        text-align: right;\n",
       "    }\n",
       "</style>\n",
       "<table border=\"1\" class=\"dataframe\">\n",
       "  <thead>\n",
       "    <tr style=\"text-align: right;\">\n",
       "      <th></th>\n",
       "      <th>User</th>\n",
       "      <th>CARD INDEX</th>\n",
       "      <th>Card Brand</th>\n",
       "      <th>Card Type</th>\n",
       "      <th>Card Number</th>\n",
       "      <th>Expires</th>\n",
       "      <th>CVV</th>\n",
       "      <th>Has Chip</th>\n",
       "      <th>Cards Issued</th>\n",
       "      <th>Credit Limit</th>\n",
       "      <th>Acct Open Date</th>\n",
       "      <th>Year PIN last Changed</th>\n",
       "    </tr>\n",
       "  </thead>\n",
       "  <tbody>\n",
       "    <tr>\n",
       "      <th>0</th>\n",
       "      <td>0</td>\n",
       "      <td>0</td>\n",
       "      <td>Visa</td>\n",
       "      <td>Debit</td>\n",
       "      <td>4344676511950444</td>\n",
       "      <td>12/2022</td>\n",
       "      <td>623</td>\n",
       "      <td>YES</td>\n",
       "      <td>2</td>\n",
       "      <td>$24295</td>\n",
       "      <td>09/2002</td>\n",
       "      <td>2008</td>\n",
       "    </tr>\n",
       "    <tr>\n",
       "      <th>1</th>\n",
       "      <td>0</td>\n",
       "      <td>1</td>\n",
       "      <td>Visa</td>\n",
       "      <td>Debit</td>\n",
       "      <td>4956965974959986</td>\n",
       "      <td>12/2020</td>\n",
       "      <td>393</td>\n",
       "      <td>YES</td>\n",
       "      <td>2</td>\n",
       "      <td>$21968</td>\n",
       "      <td>04/2014</td>\n",
       "      <td>2014</td>\n",
       "    </tr>\n",
       "    <tr>\n",
       "      <th>2</th>\n",
       "      <td>0</td>\n",
       "      <td>2</td>\n",
       "      <td>Visa</td>\n",
       "      <td>Debit</td>\n",
       "      <td>4582313478255491</td>\n",
       "      <td>02/2024</td>\n",
       "      <td>719</td>\n",
       "      <td>YES</td>\n",
       "      <td>2</td>\n",
       "      <td>$46414</td>\n",
       "      <td>07/2003</td>\n",
       "      <td>2004</td>\n",
       "    </tr>\n",
       "    <tr>\n",
       "      <th>3</th>\n",
       "      <td>0</td>\n",
       "      <td>3</td>\n",
       "      <td>Visa</td>\n",
       "      <td>Credit</td>\n",
       "      <td>4879494103069057</td>\n",
       "      <td>08/2024</td>\n",
       "      <td>693</td>\n",
       "      <td>NO</td>\n",
       "      <td>1</td>\n",
       "      <td>$12400</td>\n",
       "      <td>01/2003</td>\n",
       "      <td>2012</td>\n",
       "    </tr>\n",
       "    <tr>\n",
       "      <th>4</th>\n",
       "      <td>0</td>\n",
       "      <td>4</td>\n",
       "      <td>Mastercard</td>\n",
       "      <td>Debit (Prepaid)</td>\n",
       "      <td>5722874738736011</td>\n",
       "      <td>03/2009</td>\n",
       "      <td>75</td>\n",
       "      <td>YES</td>\n",
       "      <td>1</td>\n",
       "      <td>$28</td>\n",
       "      <td>09/2008</td>\n",
       "      <td>2009</td>\n",
       "    </tr>\n",
       "  </tbody>\n",
       "</table>\n",
       "</div>"
      ],
      "text/plain": [
       "   User  CARD INDEX  Card Brand        Card Type       Card Number  Expires  \\\n",
       "0     0           0        Visa            Debit  4344676511950444  12/2022   \n",
       "1     0           1        Visa            Debit  4956965974959986  12/2020   \n",
       "2     0           2        Visa            Debit  4582313478255491  02/2024   \n",
       "3     0           3        Visa           Credit  4879494103069057  08/2024   \n",
       "4     0           4  Mastercard  Debit (Prepaid)  5722874738736011  03/2009   \n",
       "\n",
       "   CVV Has Chip  Cards Issued Credit Limit Acct Open Date  \\\n",
       "0  623      YES             2       $24295        09/2002   \n",
       "1  393      YES             2       $21968        04/2014   \n",
       "2  719      YES             2       $46414        07/2003   \n",
       "3  693       NO             1       $12400        01/2003   \n",
       "4   75      YES             1          $28        09/2008   \n",
       "\n",
       "   Year PIN last Changed  \n",
       "0                   2008  \n",
       "1                   2014  \n",
       "2                   2004  \n",
       "3                   2012  \n",
       "4                   2009  "
      ]
     },
     "execution_count": 16,
     "metadata": {},
     "output_type": "execute_result"
    }
   ],
   "source": [
    "cards_df = cards_df.drop('Card on Dark Web', axis=1)\n",
    "cards_df.head()"
   ]
  },
  {
   "cell_type": "code",
   "execution_count": 17,
   "metadata": {},
   "outputs": [
    {
     "data": {
      "text/plain": [
       "Index(['Person', 'Current Age', 'Retirement Age', 'Birth Year', 'Birth Month',\n",
       "       'Gender', 'Address', 'City', 'State', 'Zipcode', 'Latitude',\n",
       "       'Longitude', 'Per Capita Income - Zipcode', 'Yearly Income - Person',\n",
       "       'Total Debt', 'FICO Score', 'Num Credit Cards'],\n",
       "      dtype='object')"
      ]
     },
     "execution_count": 17,
     "metadata": {},
     "output_type": "execute_result"
    }
   ],
   "source": [
    "users_df.columns"
   ]
  },
  {
   "cell_type": "code",
   "execution_count": 18,
   "metadata": {},
   "outputs": [
    {
     "data": {
      "text/plain": [
       "Index(['User', 'CARD INDEX', 'Card Brand', 'Card Type', 'Card Number',\n",
       "       'Expires', 'CVV', 'Has Chip', 'Cards Issued', 'Credit Limit',\n",
       "       'Acct Open Date', 'Year PIN last Changed'],\n",
       "      dtype='object')"
      ]
     },
     "execution_count": 18,
     "metadata": {},
     "output_type": "execute_result"
    }
   ],
   "source": [
    "cards_df.columns"
   ]
  },
  {
   "cell_type": "code",
   "execution_count": 19,
   "metadata": {},
   "outputs": [
    {
     "data": {
      "text/plain": [
       "Index(['User', 'Card', 'Year', 'Month', 'Day', 'Time', 'Amount', 'Use Chip',\n",
       "       'Merchant Name', 'Merchant City', 'Merchant State', 'Zip', 'MCC',\n",
       "       'Errors?', 'Is Fraud?'],\n",
       "      dtype='object')"
      ]
     },
     "execution_count": 19,
     "metadata": {},
     "output_type": "execute_result"
    }
   ],
   "source": [
    "transactions_df.columns"
   ]
  },
  {
   "cell_type": "code",
   "execution_count": 20,
   "metadata": {},
   "outputs": [
    {
     "data": {
      "text/plain": [
       "<Axes: xlabel='Is Fraud?', ylabel='count'>"
      ]
     },
     "execution_count": 20,
     "metadata": {},
     "output_type": "execute_result"
    },
    {
     "data": {
      "image/png": "[encoded data removed]",
      "text/plain": [
       "<Figure size 640x480 with 1 Axes>"
      ]
     },
     "metadata": {},
     "output_type": "display_data"
    }
   ],
   "source": [
    "sns.countplot(data=transactions_df, x='Is Fraud?')"
   ]
  },
  {
   "cell_type": "code",
   "execution_count": 21,
   "metadata": {},
   "outputs": [
    {
     "data": {
      "text/plain": [
       "No     6869425\n",
       "Yes       8412\n",
       "Name: Is Fraud?, dtype: int64"
      ]
     },
     "execution_count": 21,
     "metadata": {},
     "output_type": "execute_result"
    }
   ],
   "source": [
    "transactions_df['Is Fraud?'].value_counts()"
   ]
  },
  {
   "cell_type": "markdown",
   "metadata": {},
   "source": [
    "We are facing an imbalanced data since there are more than 800 times \"No\" labels in the dataset comparing to \"Yes\""
   ]
  },
  {
   "cell_type": "markdown",
   "metadata": {},
   "source": [
    "Where the frauds happened? To do so first we take out all the user IDs who were victim of the fraud then we get their lat/long information and plot them on map."
   ]
  },
  {
   "cell_type": "code",
   "execution_count": 22,
   "metadata": {},
   "outputs": [
    {
     "name": "stdout",
     "output_type": "stream",
     "text": [
      "[   0    1    2    3    4    5    6    8   13   15   17   22   23   29\n",
      "   31   36   37   40   41   42   44   47   48   49   50   52   53   55\n",
      "   59   61   62   64   65   67   68   71   73   74   75   77   81   83\n",
      "   86   89   91   92   94   96   98  100  102  103  106  107  109  111\n",
      "  112  114  116  118  124  126  128  129  134  135  137  138  142  143\n",
      "  149  151  156  159  161  162  165  167  170  171  176  178  179  180\n",
      "  182  184  185  186  187  190  192  193  195  197  201  202  204  205\n",
      "  207  209  210  212  214  215  219  220  222  225  226  228  229  230\n",
      "  239  240  241  242  243  254  256  257  259  261  262  266  268  269\n",
      "  271  275  278  281  283  285  286  288  289  291  292  294  297  298\n",
      "  299  300  301  302  304  307  311  313  317  318  319  320  322  325\n",
      "  327  331  332  333  338  341  348  349  350  354  360  362  365  367\n",
      "  370  371  376  377  381  390  392  393  395  396  406  408  410  411\n",
      "  413  414  416  417  420  423  424  425  427  430  432  433  440  441\n",
      "  443  445  446  448  449  450  452  453  454  456  458  459  461  462\n",
      "  463  464  465  466  472  473  474  478  481  482  487  488  489  490\n",
      "  491  494  497  500  502  503  506  507  508  509  511  515  517  520\n",
      "  521  523  528  531  536  539  540  544  546  547  548  549  552  553\n",
      "  556  559  566  568  569  570  572  574  575  576  577  578  579  580\n",
      "  581  583  584  588  591  595  597  598  599  601  602  603  604  605\n",
      "  606  611  613  615  617  618  620  622  623  624  625  628  629  632\n",
      "  633  634  637  638  641  643  644  645  647  650  658  661  662  672\n",
      "  674  675  677  678  679  680  681  683  684  686  687  688  690  691\n",
      "  692  693  694  697  700  702  703  706  707  709  711  716  719  724\n",
      "  725  726  727  729  731  734  736  739  740  742  744  745  747  748\n",
      "  751  754  759  760  761  763  764  767  768  771  773  776  777  779\n",
      "  780  781  783  785  790  791  793  796  799  801  802  803  804  806\n",
      "  812  813  814  817  820  822  824  827  829  831  832  833  836  838\n",
      "  840  841  842  846  849  853  854  855  857  858  860  863  864  865\n",
      "  866  867  870  874  876  877  880  881  882  883  884  885  888  889\n",
      "  896  897  899  901  907  908  909  911  913  914  916  918  920  921\n",
      "  923  924  928  929  931  932  933  937  938  940  943  944  945  946\n",
      "  948  949  950  951  952  957  958  959  960  966  967  968  969  970\n",
      "  973  975  979  980  981  983  984  986  987  989  990  991  992  995\n",
      "  996  998  999 1002 1003 1006 1008 1009 1011 1013 1014 1017 1018 1019\n",
      " 1020 1025 1029 1030 1032 1033 1037 1038 1040 1041 1042 1047 1049 1050\n",
      " 1052 1056 1057 1060 1061 1062 1063 1064 1066 1067 1069 1071 1072 1074\n",
      " 1075 1076 1078 1081 1083 1085 1086 1089 1094 1095 1096 1097 1098 1099\n",
      " 1101 1102 1103 1105 1106 1107 1109 1110 1111 1114 1115 1118 1121 1122\n",
      " 1123 1126 1129 1131 1132 1135 1139 1141 1144 1149 1150 1151 1154 1155\n",
      " 1156 1157 1159 1160 1163 1164 1166 1167 1169 1171 1174 1176 1178 1180\n",
      " 1181 1185 1186 1188 1191 1195 1196 1198 1199 1201 1202 1204 1206 1207\n",
      " 1211 1212 1215 1216 1218 1220 1221 1222 1223 1225 1227 1230 1231 1234\n",
      " 1235 1236 1237 1238 1241 1242 1245 1247 1248 1249 1251 1252 1253 1254\n",
      " 1258 1260 1263 1264 1266 1270 1271 1272 1273 1274 1277 1278 1281 1284\n",
      " 1287 1290 1292 1295 1297 1298 1301 1302 1304 1305 1309 1313 1315 1316\n",
      " 1317 1318 1319 1320 1323 1324 1327 1329 1330 1336 1339 1342 1343 1347\n",
      " 1349 1351 1352 1353 1354 1356 1357 1358 1359 1361 1362 1364 1366 1368\n",
      " 1370 1371 1376 1377 1378 1379 1380 1383 1389 1392 1393 1394 1395 1397\n",
      " 1398 1400 1401 1404 1405 1414 1417 1419 1420 1422 1423 1425 1427 1428\n",
      " 1429 1430 1431 1434 1437 1441 1443 1446 1448 1450 1452 1455 1460 1468\n",
      " 1470 1473 1475 1476 1477 1478 1479 1482 1483 1486 1487 1488 1490 1491\n",
      " 1495 1496 1497 1498 1499 1502 1503 1505 1506 1508 1512 1514 1515 1518\n",
      " 1520 1522 1524 1526 1528 1529 1530 1531 1532 1533 1534 1536 1537 1539\n",
      " 1541 1543 1544 1545 1546 1551 1552 1555 1557 1558 1564 1566 1567 1570\n",
      " 1571 1572 1573 1575 1576 1578 1579 1581 1582 1584 1585 1587 1588 1589\n",
      " 1590 1591 1593 1594 1597 1598 1600 1601 1603 1604 1607 1611 1613 1617\n",
      " 1619 1620 1621 1622 1625 1629 1632 1634 1638 1639 1640 1641 1643 1645\n",
      " 1647 1648 1649 1650 1654 1656 1657 1660 1662 1665 1669 1671 1673 1674\n",
      " 1675 1676 1680 1681 1682 1683 1685 1687 1689 1690 1691 1693 1695 1697\n",
      " 1698 1705 1708 1709 1710 1712 1715 1716 1717 1722 1723 1725 1726 1727\n",
      " 1730 1731 1734 1735 1736 1739 1741 1742 1743 1744 1748 1757 1758 1760\n",
      " 1764 1766 1768 1769 1770 1774 1776 1780 1781 1782 1788 1789 1790 1791\n",
      " 1792 1795 1798 1799 1800 1802 1807 1808 1809 1810 1813 1815 1816 1820\n",
      " 1821 1822 1823 1824 1825 1827 1832 1837 1838 1841 1844 1846 1847 1848\n",
      " 1852 1853 1854 1855 1858 1859 1860 1869 1874 1876 1877 1880 1881 1882\n",
      " 1883 1884 1885 1887 1889 1890 1893 1894 1895 1897 1898 1900 1903 1904\n",
      " 1905 1907 1908 1909 1911 1912 1917 1918 1919 1920 1921 1923 1926 1929\n",
      " 1931 1932 1933 1934 1938 1945 1948 1956 1958 1961 1965 1966 1974 1976\n",
      " 1977 1978 1981 1982 1983 1989 1990 1992 1993 1996 1997]\n",
      "977\n"
     ]
    }
   ],
   "source": [
    "vicitm_ids = transactions_df[transactions_df['Is Fraud?'] == \"Yes\"]['User'].unique()\n",
    "print(vicitm_ids)\n",
    "print(len(vicitm_ids))"
   ]
  },
  {
   "cell_type": "code",
   "execution_count": 23,
   "metadata": {},
   "outputs": [
    {
     "name": "stderr",
     "output_type": "stream",
     "text": [
      "C:\\Users\\hoo11155\\AppData\\Local\\Temp\\1\\ipykernel_1192\\2869246013.py:1: FutureWarning: The default value of numeric_only in DataFrame.corr is deprecated. In a future version, it will default to False. Select only valid columns or specify the value of numeric_only to silence this warning.\n",
      "  sns.heatmap(transactions_df.corr(), annot=True)\n"
     ]
    },
    {
     "data": {
      "text/plain": [
       "<Axes: >"
      ]
     },
     "execution_count": 23,
     "metadata": {},
     "output_type": "execute_result"
    },
    {
     "data": {
      "image/png": "[encoded data removed]",
      "text/plain": [
       "<Figure size 640x480 with 2 Axes>"
      ]
     },
     "metadata": {},
     "output_type": "display_data"
    }
   ],
   "source": [
    "sns.heatmap(transactions_df.corr(), annot=True)"
   ]
  },
  {
   "cell_type": "markdown",
   "metadata": {},
   "source": [
    "#### Fit Logistic Regression model (our baseline)"
   ]
  },
  {
   "cell_type": "code",
   "execution_count": 24,
   "metadata": {},
   "outputs": [
    {
     "data": {
      "text/html": [
       "<div>\n",
       "<style scoped>\n",
       "    .dataframe tbody tr th:only-of-type {\n",
       "        vertical-align: middle;\n",
       "    }\n",
       "\n",
       "    .dataframe tbody tr th {\n",
       "        vertical-align: top;\n",
       "    }\n",
       "\n",
       "    .dataframe thead th {\n",
       "        text-align: right;\n",
       "    }\n",
       "</style>\n",
       "<table border=\"1\" class=\"dataframe\">\n",
       "  <thead>\n",
       "    <tr style=\"text-align: right;\">\n",
       "      <th></th>\n",
       "      <th>User</th>\n",
       "      <th>Card</th>\n",
       "      <th>Year</th>\n",
       "      <th>Month</th>\n",
       "      <th>Day</th>\n",
       "      <th>Time</th>\n",
       "      <th>Amount</th>\n",
       "      <th>Use Chip</th>\n",
       "      <th>Merchant Name</th>\n",
       "      <th>Merchant City</th>\n",
       "      <th>...</th>\n",
       "      <th>City</th>\n",
       "      <th>State</th>\n",
       "      <th>Zipcode</th>\n",
       "      <th>Latitude</th>\n",
       "      <th>Longitude</th>\n",
       "      <th>Per Capita Income - Zipcode</th>\n",
       "      <th>Yearly Income - Person</th>\n",
       "      <th>Total Debt</th>\n",
       "      <th>FICO Score</th>\n",
       "      <th>Num Credit Cards</th>\n",
       "    </tr>\n",
       "  </thead>\n",
       "  <tbody>\n",
       "    <tr>\n",
       "      <th>4136</th>\n",
       "      <td>0</td>\n",
       "      <td>0</td>\n",
       "      <td>2016</td>\n",
       "      <td>1</td>\n",
       "      <td>3</td>\n",
       "      <td>10:48</td>\n",
       "      <td>$66.48</td>\n",
       "      <td>Chip Transaction</td>\n",
       "      <td>-3345936507911876459</td>\n",
       "      <td>La Verne</td>\n",
       "      <td>...</td>\n",
       "      <td>La Verne</td>\n",
       "      <td>CA</td>\n",
       "      <td>91750</td>\n",
       "      <td>34.15</td>\n",
       "      <td>-117.76</td>\n",
       "      <td>$29278</td>\n",
       "      <td>$59696</td>\n",
       "      <td>$127613</td>\n",
       "      <td>787</td>\n",
       "      <td>5</td>\n",
       "    </tr>\n",
       "    <tr>\n",
       "      <th>4137</th>\n",
       "      <td>0</td>\n",
       "      <td>0</td>\n",
       "      <td>2016</td>\n",
       "      <td>1</td>\n",
       "      <td>4</td>\n",
       "      <td>06:43</td>\n",
       "      <td>$40.02</td>\n",
       "      <td>Chip Transaction</td>\n",
       "      <td>-34551508091458520</td>\n",
       "      <td>La Verne</td>\n",
       "      <td>...</td>\n",
       "      <td>La Verne</td>\n",
       "      <td>CA</td>\n",
       "      <td>91750</td>\n",
       "      <td>34.15</td>\n",
       "      <td>-117.76</td>\n",
       "      <td>$29278</td>\n",
       "      <td>$59696</td>\n",
       "      <td>$127613</td>\n",
       "      <td>787</td>\n",
       "      <td>5</td>\n",
       "    </tr>\n",
       "    <tr>\n",
       "      <th>4138</th>\n",
       "      <td>0</td>\n",
       "      <td>0</td>\n",
       "      <td>2016</td>\n",
       "      <td>1</td>\n",
       "      <td>7</td>\n",
       "      <td>09:30</td>\n",
       "      <td>$54.11</td>\n",
       "      <td>Chip Transaction</td>\n",
       "      <td>4055257078481058705</td>\n",
       "      <td>La Verne</td>\n",
       "      <td>...</td>\n",
       "      <td>La Verne</td>\n",
       "      <td>CA</td>\n",
       "      <td>91750</td>\n",
       "      <td>34.15</td>\n",
       "      <td>-117.76</td>\n",
       "      <td>$29278</td>\n",
       "      <td>$59696</td>\n",
       "      <td>$127613</td>\n",
       "      <td>787</td>\n",
       "      <td>5</td>\n",
       "    </tr>\n",
       "    <tr>\n",
       "      <th>4139</th>\n",
       "      <td>0</td>\n",
       "      <td>0</td>\n",
       "      <td>2016</td>\n",
       "      <td>1</td>\n",
       "      <td>7</td>\n",
       "      <td>16:03</td>\n",
       "      <td>$89.48</td>\n",
       "      <td>Chip Transaction</td>\n",
       "      <td>3414527459579106770</td>\n",
       "      <td>Monterey Park</td>\n",
       "      <td>...</td>\n",
       "      <td>La Verne</td>\n",
       "      <td>CA</td>\n",
       "      <td>91750</td>\n",
       "      <td>34.15</td>\n",
       "      <td>-117.76</td>\n",
       "      <td>$29278</td>\n",
       "      <td>$59696</td>\n",
       "      <td>$127613</td>\n",
       "      <td>787</td>\n",
       "      <td>5</td>\n",
       "    </tr>\n",
       "    <tr>\n",
       "      <th>4140</th>\n",
       "      <td>0</td>\n",
       "      <td>0</td>\n",
       "      <td>2016</td>\n",
       "      <td>1</td>\n",
       "      <td>10</td>\n",
       "      <td>06:38</td>\n",
       "      <td>$29.15</td>\n",
       "      <td>Chip Transaction</td>\n",
       "      <td>-5475680618560174533</td>\n",
       "      <td>Monterey Park</td>\n",
       "      <td>...</td>\n",
       "      <td>La Verne</td>\n",
       "      <td>CA</td>\n",
       "      <td>91750</td>\n",
       "      <td>34.15</td>\n",
       "      <td>-117.76</td>\n",
       "      <td>$29278</td>\n",
       "      <td>$59696</td>\n",
       "      <td>$127613</td>\n",
       "      <td>787</td>\n",
       "      <td>5</td>\n",
       "    </tr>\n",
       "    <tr>\n",
       "      <th>...</th>\n",
       "      <td>...</td>\n",
       "      <td>...</td>\n",
       "      <td>...</td>\n",
       "      <td>...</td>\n",
       "      <td>...</td>\n",
       "      <td>...</td>\n",
       "      <td>...</td>\n",
       "      <td>...</td>\n",
       "      <td>...</td>\n",
       "      <td>...</td>\n",
       "      <td>...</td>\n",
       "      <td>...</td>\n",
       "      <td>...</td>\n",
       "      <td>...</td>\n",
       "      <td>...</td>\n",
       "      <td>...</td>\n",
       "      <td>...</td>\n",
       "      <td>...</td>\n",
       "      <td>...</td>\n",
       "      <td>...</td>\n",
       "      <td>...</td>\n",
       "    </tr>\n",
       "    <tr>\n",
       "      <th>24386727</th>\n",
       "      <td>1999</td>\n",
       "      <td>1</td>\n",
       "      <td>2019</td>\n",
       "      <td>12</td>\n",
       "      <td>30</td>\n",
       "      <td>11:38</td>\n",
       "      <td>$66.53</td>\n",
       "      <td>Chip Transaction</td>\n",
       "      <td>2910328604019547969</td>\n",
       "      <td>Milford</td>\n",
       "      <td>...</td>\n",
       "      <td>Merrimack</td>\n",
       "      <td>NH</td>\n",
       "      <td>3054</td>\n",
       "      <td>42.86</td>\n",
       "      <td>-71.48</td>\n",
       "      <td>$32325</td>\n",
       "      <td>$65909</td>\n",
       "      <td>$181261</td>\n",
       "      <td>673</td>\n",
       "      <td>2</td>\n",
       "    </tr>\n",
       "    <tr>\n",
       "      <th>24386728</th>\n",
       "      <td>1999</td>\n",
       "      <td>1</td>\n",
       "      <td>2019</td>\n",
       "      <td>12</td>\n",
       "      <td>30</td>\n",
       "      <td>12:03</td>\n",
       "      <td>$99.67</td>\n",
       "      <td>Chip Transaction</td>\n",
       "      <td>1641456720718814353</td>\n",
       "      <td>Merrimack</td>\n",
       "      <td>...</td>\n",
       "      <td>Merrimack</td>\n",
       "      <td>NH</td>\n",
       "      <td>3054</td>\n",
       "      <td>42.86</td>\n",
       "      <td>-71.48</td>\n",
       "      <td>$32325</td>\n",
       "      <td>$65909</td>\n",
       "      <td>$181261</td>\n",
       "      <td>673</td>\n",
       "      <td>2</td>\n",
       "    </tr>\n",
       "    <tr>\n",
       "      <th>24386729</th>\n",
       "      <td>1999</td>\n",
       "      <td>1</td>\n",
       "      <td>2019</td>\n",
       "      <td>12</td>\n",
       "      <td>30</td>\n",
       "      <td>18:44</td>\n",
       "      <td>$93.63</td>\n",
       "      <td>Chip Transaction</td>\n",
       "      <td>-5501892381419303127</td>\n",
       "      <td>Merrimack</td>\n",
       "      <td>...</td>\n",
       "      <td>Merrimack</td>\n",
       "      <td>NH</td>\n",
       "      <td>3054</td>\n",
       "      <td>42.86</td>\n",
       "      <td>-71.48</td>\n",
       "      <td>$32325</td>\n",
       "      <td>$65909</td>\n",
       "      <td>$181261</td>\n",
       "      <td>673</td>\n",
       "      <td>2</td>\n",
       "    </tr>\n",
       "    <tr>\n",
       "      <th>24386730</th>\n",
       "      <td>1999</td>\n",
       "      <td>1</td>\n",
       "      <td>2019</td>\n",
       "      <td>12</td>\n",
       "      <td>30</td>\n",
       "      <td>20:09</td>\n",
       "      <td>$67.60</td>\n",
       "      <td>Online Transaction</td>\n",
       "      <td>-6160036380778658394</td>\n",
       "      <td>ONLINE</td>\n",
       "      <td>...</td>\n",
       "      <td>Merrimack</td>\n",
       "      <td>NH</td>\n",
       "      <td>3054</td>\n",
       "      <td>42.86</td>\n",
       "      <td>-71.48</td>\n",
       "      <td>$32325</td>\n",
       "      <td>$65909</td>\n",
       "      <td>$181261</td>\n",
       "      <td>673</td>\n",
       "      <td>2</td>\n",
       "    </tr>\n",
       "    <tr>\n",
       "      <th>24386731</th>\n",
       "      <td>1999</td>\n",
       "      <td>1</td>\n",
       "      <td>2019</td>\n",
       "      <td>12</td>\n",
       "      <td>31</td>\n",
       "      <td>20:26</td>\n",
       "      <td>$51.71</td>\n",
       "      <td>Chip Transaction</td>\n",
       "      <td>2500998799892805156</td>\n",
       "      <td>Merrimack</td>\n",
       "      <td>...</td>\n",
       "      <td>Merrimack</td>\n",
       "      <td>NH</td>\n",
       "      <td>3054</td>\n",
       "      <td>42.86</td>\n",
       "      <td>-71.48</td>\n",
       "      <td>$32325</td>\n",
       "      <td>$65909</td>\n",
       "      <td>$181261</td>\n",
       "      <td>673</td>\n",
       "      <td>2</td>\n",
       "    </tr>\n",
       "  </tbody>\n",
       "</table>\n",
       "<p>6877837 rows × 32 columns</p>\n",
       "</div>"
      ],
      "text/plain": [
       "          User  Card  Year  Month  Day   Time  Amount            Use Chip  \\\n",
       "4136         0     0  2016      1    3  10:48  $66.48    Chip Transaction   \n",
       "4137         0     0  2016      1    4  06:43  $40.02    Chip Transaction   \n",
       "4138         0     0  2016      1    7  09:30  $54.11    Chip Transaction   \n",
       "4139         0     0  2016      1    7  16:03  $89.48    Chip Transaction   \n",
       "4140         0     0  2016      1   10  06:38  $29.15    Chip Transaction   \n",
       "...        ...   ...   ...    ...  ...    ...     ...                 ...   \n",
       "24386727  1999     1  2019     12   30  11:38  $66.53    Chip Transaction   \n",
       "24386728  1999     1  2019     12   30  12:03  $99.67    Chip Transaction   \n",
       "24386729  1999     1  2019     12   30  18:44  $93.63    Chip Transaction   \n",
       "24386730  1999     1  2019     12   30  20:09  $67.60  Online Transaction   \n",
       "24386731  1999     1  2019     12   31  20:26  $51.71    Chip Transaction   \n",
       "\n",
       "                Merchant Name  Merchant City  ...       City  State  Zipcode  \\\n",
       "4136     -3345936507911876459       La Verne  ...   La Verne     CA    91750   \n",
       "4137       -34551508091458520       La Verne  ...   La Verne     CA    91750   \n",
       "4138      4055257078481058705       La Verne  ...   La Verne     CA    91750   \n",
       "4139      3414527459579106770  Monterey Park  ...   La Verne     CA    91750   \n",
       "4140     -5475680618560174533  Monterey Park  ...   La Verne     CA    91750   \n",
       "...                       ...            ...  ...        ...    ...      ...   \n",
       "24386727  2910328604019547969        Milford  ...  Merrimack     NH     3054   \n",
       "24386728  1641456720718814353      Merrimack  ...  Merrimack     NH     3054   \n",
       "24386729 -5501892381419303127      Merrimack  ...  Merrimack     NH     3054   \n",
       "24386730 -6160036380778658394         ONLINE  ...  Merrimack     NH     3054   \n",
       "24386731  2500998799892805156      Merrimack  ...  Merrimack     NH     3054   \n",
       "\n",
       "         Latitude Longitude Per Capita Income - Zipcode  \\\n",
       "4136        34.15   -117.76                      $29278   \n",
       "4137        34.15   -117.76                      $29278   \n",
       "4138        34.15   -117.76                      $29278   \n",
       "4139        34.15   -117.76                      $29278   \n",
       "4140        34.15   -117.76                      $29278   \n",
       "...           ...       ...                         ...   \n",
       "24386727    42.86    -71.48                      $32325   \n",
       "24386728    42.86    -71.48                      $32325   \n",
       "24386729    42.86    -71.48                      $32325   \n",
       "24386730    42.86    -71.48                      $32325   \n",
       "24386731    42.86    -71.48                      $32325   \n",
       "\n",
       "          Yearly Income - Person  Total Debt  FICO Score  Num Credit Cards  \n",
       "4136                      $59696     $127613         787                 5  \n",
       "4137                      $59696     $127613         787                 5  \n",
       "4138                      $59696     $127613         787                 5  \n",
       "4139                      $59696     $127613         787                 5  \n",
       "4140                      $59696     $127613         787                 5  \n",
       "...                          ...         ...         ...               ...  \n",
       "24386727                  $65909     $181261         673                 2  \n",
       "24386728                  $65909     $181261         673                 2  \n",
       "24386729                  $65909     $181261         673                 2  \n",
       "24386730                  $65909     $181261         673                 2  \n",
       "24386731                  $65909     $181261         673                 2  \n",
       "\n",
       "[6877837 rows x 32 columns]"
      ]
     },
     "execution_count": 24,
     "metadata": {},
     "output_type": "execute_result"
    }
   ],
   "source": [
    "user_trans_df = pd.merge(left=transactions_df, right=users_df, left_on='User', right_index=True, how='left')\n",
    "user_trans_df"
   ]
  },
  {
   "cell_type": "code",
   "execution_count": 25,
   "metadata": {},
   "outputs": [
    {
     "data": {
      "text/plain": [
       "(6877837, 10)"
      ]
     },
     "execution_count": 25,
     "metadata": {},
     "output_type": "execute_result"
    }
   ],
   "source": [
    "# not all the information required. try to remove the info not necessary. We may need to come back and use them later. But for now to reduce the dimensionality of the base model, let's remove some.\n",
    "user_trans_df = user_trans_df[['User', 'Amount', 'Use Chip', 'Is Fraud?', 'Current Age', 'Gender', 'Yearly Income - Person', 'Total Debt', 'FICO Score', 'Num Credit Cards']]\n",
    "user_trans_df.shape"
   ]
  },
  {
   "cell_type": "code",
   "execution_count": 26,
   "metadata": {},
   "outputs": [
    {
     "data": {
      "text/html": [
       "<div>\n",
       "<style scoped>\n",
       "    .dataframe tbody tr th:only-of-type {\n",
       "        vertical-align: middle;\n",
       "    }\n",
       "\n",
       "    .dataframe tbody tr th {\n",
       "        vertical-align: top;\n",
       "    }\n",
       "\n",
       "    .dataframe thead th {\n",
       "        text-align: right;\n",
       "    }\n",
       "</style>\n",
       "<table border=\"1\" class=\"dataframe\">\n",
       "  <thead>\n",
       "    <tr style=\"text-align: right;\">\n",
       "      <th></th>\n",
       "      <th>User</th>\n",
       "      <th>Amount</th>\n",
       "      <th>Use Chip</th>\n",
       "      <th>Is Fraud?</th>\n",
       "      <th>Current Age</th>\n",
       "      <th>Gender</th>\n",
       "      <th>Yearly Income - Person</th>\n",
       "      <th>Total Debt</th>\n",
       "      <th>FICO Score</th>\n",
       "      <th>Num Credit Cards</th>\n",
       "      <th>...</th>\n",
       "      <th>Card Brand</th>\n",
       "      <th>Card Type</th>\n",
       "      <th>Card Number</th>\n",
       "      <th>Expires</th>\n",
       "      <th>CVV</th>\n",
       "      <th>Has Chip</th>\n",
       "      <th>Cards Issued</th>\n",
       "      <th>Credit Limit</th>\n",
       "      <th>Acct Open Date</th>\n",
       "      <th>Year PIN last Changed</th>\n",
       "    </tr>\n",
       "  </thead>\n",
       "  <tbody>\n",
       "    <tr>\n",
       "      <th>0</th>\n",
       "      <td>0</td>\n",
       "      <td>$66.48</td>\n",
       "      <td>Chip Transaction</td>\n",
       "      <td>No</td>\n",
       "      <td>53</td>\n",
       "      <td>Female</td>\n",
       "      <td>$59696</td>\n",
       "      <td>$127613</td>\n",
       "      <td>787</td>\n",
       "      <td>5</td>\n",
       "      <td>...</td>\n",
       "      <td>Visa</td>\n",
       "      <td>Debit</td>\n",
       "      <td>4344676511950444</td>\n",
       "      <td>12/2022</td>\n",
       "      <td>623</td>\n",
       "      <td>YES</td>\n",
       "      <td>2</td>\n",
       "      <td>$24295</td>\n",
       "      <td>09/2002</td>\n",
       "      <td>2008</td>\n",
       "    </tr>\n",
       "    <tr>\n",
       "      <th>1</th>\n",
       "      <td>0</td>\n",
       "      <td>$66.48</td>\n",
       "      <td>Chip Transaction</td>\n",
       "      <td>No</td>\n",
       "      <td>53</td>\n",
       "      <td>Female</td>\n",
       "      <td>$59696</td>\n",
       "      <td>$127613</td>\n",
       "      <td>787</td>\n",
       "      <td>5</td>\n",
       "      <td>...</td>\n",
       "      <td>Visa</td>\n",
       "      <td>Debit</td>\n",
       "      <td>4956965974959986</td>\n",
       "      <td>12/2020</td>\n",
       "      <td>393</td>\n",
       "      <td>YES</td>\n",
       "      <td>2</td>\n",
       "      <td>$21968</td>\n",
       "      <td>04/2014</td>\n",
       "      <td>2014</td>\n",
       "    </tr>\n",
       "    <tr>\n",
       "      <th>2</th>\n",
       "      <td>0</td>\n",
       "      <td>$66.48</td>\n",
       "      <td>Chip Transaction</td>\n",
       "      <td>No</td>\n",
       "      <td>53</td>\n",
       "      <td>Female</td>\n",
       "      <td>$59696</td>\n",
       "      <td>$127613</td>\n",
       "      <td>787</td>\n",
       "      <td>5</td>\n",
       "      <td>...</td>\n",
       "      <td>Visa</td>\n",
       "      <td>Debit</td>\n",
       "      <td>4582313478255491</td>\n",
       "      <td>02/2024</td>\n",
       "      <td>719</td>\n",
       "      <td>YES</td>\n",
       "      <td>2</td>\n",
       "      <td>$46414</td>\n",
       "      <td>07/2003</td>\n",
       "      <td>2004</td>\n",
       "    </tr>\n",
       "    <tr>\n",
       "      <th>3</th>\n",
       "      <td>0</td>\n",
       "      <td>$66.48</td>\n",
       "      <td>Chip Transaction</td>\n",
       "      <td>No</td>\n",
       "      <td>53</td>\n",
       "      <td>Female</td>\n",
       "      <td>$59696</td>\n",
       "      <td>$127613</td>\n",
       "      <td>787</td>\n",
       "      <td>5</td>\n",
       "      <td>...</td>\n",
       "      <td>Visa</td>\n",
       "      <td>Credit</td>\n",
       "      <td>4879494103069057</td>\n",
       "      <td>08/2024</td>\n",
       "      <td>693</td>\n",
       "      <td>NO</td>\n",
       "      <td>1</td>\n",
       "      <td>$12400</td>\n",
       "      <td>01/2003</td>\n",
       "      <td>2012</td>\n",
       "    </tr>\n",
       "    <tr>\n",
       "      <th>4</th>\n",
       "      <td>0</td>\n",
       "      <td>$66.48</td>\n",
       "      <td>Chip Transaction</td>\n",
       "      <td>No</td>\n",
       "      <td>53</td>\n",
       "      <td>Female</td>\n",
       "      <td>$59696</td>\n",
       "      <td>$127613</td>\n",
       "      <td>787</td>\n",
       "      <td>5</td>\n",
       "      <td>...</td>\n",
       "      <td>Mastercard</td>\n",
       "      <td>Debit (Prepaid)</td>\n",
       "      <td>5722874738736011</td>\n",
       "      <td>03/2009</td>\n",
       "      <td>75</td>\n",
       "      <td>YES</td>\n",
       "      <td>1</td>\n",
       "      <td>$28</td>\n",
       "      <td>09/2008</td>\n",
       "      <td>2009</td>\n",
       "    </tr>\n",
       "    <tr>\n",
       "      <th>...</th>\n",
       "      <td>...</td>\n",
       "      <td>...</td>\n",
       "      <td>...</td>\n",
       "      <td>...</td>\n",
       "      <td>...</td>\n",
       "      <td>...</td>\n",
       "      <td>...</td>\n",
       "      <td>...</td>\n",
       "      <td>...</td>\n",
       "      <td>...</td>\n",
       "      <td>...</td>\n",
       "      <td>...</td>\n",
       "      <td>...</td>\n",
       "      <td>...</td>\n",
       "      <td>...</td>\n",
       "      <td>...</td>\n",
       "      <td>...</td>\n",
       "      <td>...</td>\n",
       "      <td>...</td>\n",
       "      <td>...</td>\n",
       "      <td>...</td>\n",
       "    </tr>\n",
       "    <tr>\n",
       "      <th>24551457</th>\n",
       "      <td>1999</td>\n",
       "      <td>$93.63</td>\n",
       "      <td>Chip Transaction</td>\n",
       "      <td>No</td>\n",
       "      <td>21</td>\n",
       "      <td>Female</td>\n",
       "      <td>$65909</td>\n",
       "      <td>$181261</td>\n",
       "      <td>673</td>\n",
       "      <td>2</td>\n",
       "      <td>...</td>\n",
       "      <td>Visa</td>\n",
       "      <td>Credit</td>\n",
       "      <td>4994011318343994</td>\n",
       "      <td>12/2020</td>\n",
       "      <td>120</td>\n",
       "      <td>YES</td>\n",
       "      <td>1</td>\n",
       "      <td>$14400</td>\n",
       "      <td>05/2017</td>\n",
       "      <td>2017</td>\n",
       "    </tr>\n",
       "    <tr>\n",
       "      <th>24551458</th>\n",
       "      <td>1999</td>\n",
       "      <td>$67.60</td>\n",
       "      <td>Online Transaction</td>\n",
       "      <td>No</td>\n",
       "      <td>21</td>\n",
       "      <td>Female</td>\n",
       "      <td>$65909</td>\n",
       "      <td>$181261</td>\n",
       "      <td>673</td>\n",
       "      <td>2</td>\n",
       "      <td>...</td>\n",
       "      <td>Mastercard</td>\n",
       "      <td>Debit</td>\n",
       "      <td>5589768928167462</td>\n",
       "      <td>01/2020</td>\n",
       "      <td>630</td>\n",
       "      <td>YES</td>\n",
       "      <td>1</td>\n",
       "      <td>$28074</td>\n",
       "      <td>01/2020</td>\n",
       "      <td>2020</td>\n",
       "    </tr>\n",
       "    <tr>\n",
       "      <th>24551459</th>\n",
       "      <td>1999</td>\n",
       "      <td>$67.60</td>\n",
       "      <td>Online Transaction</td>\n",
       "      <td>No</td>\n",
       "      <td>21</td>\n",
       "      <td>Female</td>\n",
       "      <td>$65909</td>\n",
       "      <td>$181261</td>\n",
       "      <td>673</td>\n",
       "      <td>2</td>\n",
       "      <td>...</td>\n",
       "      <td>Visa</td>\n",
       "      <td>Credit</td>\n",
       "      <td>4994011318343994</td>\n",
       "      <td>12/2020</td>\n",
       "      <td>120</td>\n",
       "      <td>YES</td>\n",
       "      <td>1</td>\n",
       "      <td>$14400</td>\n",
       "      <td>05/2017</td>\n",
       "      <td>2017</td>\n",
       "    </tr>\n",
       "    <tr>\n",
       "      <th>24551460</th>\n",
       "      <td>1999</td>\n",
       "      <td>$51.71</td>\n",
       "      <td>Chip Transaction</td>\n",
       "      <td>No</td>\n",
       "      <td>21</td>\n",
       "      <td>Female</td>\n",
       "      <td>$65909</td>\n",
       "      <td>$181261</td>\n",
       "      <td>673</td>\n",
       "      <td>2</td>\n",
       "      <td>...</td>\n",
       "      <td>Mastercard</td>\n",
       "      <td>Debit</td>\n",
       "      <td>5589768928167462</td>\n",
       "      <td>01/2020</td>\n",
       "      <td>630</td>\n",
       "      <td>YES</td>\n",
       "      <td>1</td>\n",
       "      <td>$28074</td>\n",
       "      <td>01/2020</td>\n",
       "      <td>2020</td>\n",
       "    </tr>\n",
       "    <tr>\n",
       "      <th>24551461</th>\n",
       "      <td>1999</td>\n",
       "      <td>$51.71</td>\n",
       "      <td>Chip Transaction</td>\n",
       "      <td>No</td>\n",
       "      <td>21</td>\n",
       "      <td>Female</td>\n",
       "      <td>$65909</td>\n",
       "      <td>$181261</td>\n",
       "      <td>673</td>\n",
       "      <td>2</td>\n",
       "      <td>...</td>\n",
       "      <td>Visa</td>\n",
       "      <td>Credit</td>\n",
       "      <td>4994011318343994</td>\n",
       "      <td>12/2020</td>\n",
       "      <td>120</td>\n",
       "      <td>YES</td>\n",
       "      <td>1</td>\n",
       "      <td>$14400</td>\n",
       "      <td>05/2017</td>\n",
       "      <td>2017</td>\n",
       "    </tr>\n",
       "  </tbody>\n",
       "</table>\n",
       "<p>24551462 rows × 21 columns</p>\n",
       "</div>"
      ],
      "text/plain": [
       "          User  Amount            Use Chip Is Fraud?  Current Age  Gender  \\\n",
       "0            0  $66.48    Chip Transaction        No           53  Female   \n",
       "1            0  $66.48    Chip Transaction        No           53  Female   \n",
       "2            0  $66.48    Chip Transaction        No           53  Female   \n",
       "3            0  $66.48    Chip Transaction        No           53  Female   \n",
       "4            0  $66.48    Chip Transaction        No           53  Female   \n",
       "...        ...     ...                 ...       ...          ...     ...   \n",
       "24551457  1999  $93.63    Chip Transaction        No           21  Female   \n",
       "24551458  1999  $67.60  Online Transaction        No           21  Female   \n",
       "24551459  1999  $67.60  Online Transaction        No           21  Female   \n",
       "24551460  1999  $51.71    Chip Transaction        No           21  Female   \n",
       "24551461  1999  $51.71    Chip Transaction        No           21  Female   \n",
       "\n",
       "         Yearly Income - Person Total Debt  FICO Score  Num Credit Cards  ...  \\\n",
       "0                        $59696    $127613         787                 5  ...   \n",
       "1                        $59696    $127613         787                 5  ...   \n",
       "2                        $59696    $127613         787                 5  ...   \n",
       "3                        $59696    $127613         787                 5  ...   \n",
       "4                        $59696    $127613         787                 5  ...   \n",
       "...                         ...        ...         ...               ...  ...   \n",
       "24551457                 $65909    $181261         673                 2  ...   \n",
       "24551458                 $65909    $181261         673                 2  ...   \n",
       "24551459                 $65909    $181261         673                 2  ...   \n",
       "24551460                 $65909    $181261         673                 2  ...   \n",
       "24551461                 $65909    $181261         673                 2  ...   \n",
       "\n",
       "          Card Brand        Card Type       Card Number  Expires  CVV  \\\n",
       "0               Visa            Debit  4344676511950444  12/2022  623   \n",
       "1               Visa            Debit  4956965974959986  12/2020  393   \n",
       "2               Visa            Debit  4582313478255491  02/2024  719   \n",
       "3               Visa           Credit  4879494103069057  08/2024  693   \n",
       "4         Mastercard  Debit (Prepaid)  5722874738736011  03/2009   75   \n",
       "...              ...              ...               ...      ...  ...   \n",
       "24551457        Visa           Credit  4994011318343994  12/2020  120   \n",
       "24551458  Mastercard            Debit  5589768928167462  01/2020  630   \n",
       "24551459        Visa           Credit  4994011318343994  12/2020  120   \n",
       "24551460  Mastercard            Debit  5589768928167462  01/2020  630   \n",
       "24551461        Visa           Credit  4994011318343994  12/2020  120   \n",
       "\n",
       "          Has Chip Cards Issued  Credit Limit Acct Open Date  \\\n",
       "0              YES            2        $24295        09/2002   \n",
       "1              YES            2        $21968        04/2014   \n",
       "2              YES            2        $46414        07/2003   \n",
       "3               NO            1        $12400        01/2003   \n",
       "4              YES            1           $28        09/2008   \n",
       "...            ...          ...           ...            ...   \n",
       "24551457       YES            1        $14400        05/2017   \n",
       "24551458       YES            1        $28074        01/2020   \n",
       "24551459       YES            1        $14400        05/2017   \n",
       "24551460       YES            1        $28074        01/2020   \n",
       "24551461       YES            1        $14400        05/2017   \n",
       "\n",
       "         Year PIN last Changed  \n",
       "0                         2008  \n",
       "1                         2014  \n",
       "2                         2004  \n",
       "3                         2012  \n",
       "4                         2009  \n",
       "...                        ...  \n",
       "24551457                  2017  \n",
       "24551458                  2020  \n",
       "24551459                  2017  \n",
       "24551460                  2020  \n",
       "24551461                  2017  \n",
       "\n",
       "[24551462 rows x 21 columns]"
      ]
     },
     "execution_count": 26,
     "metadata": {},
     "output_type": "execute_result"
    }
   ],
   "source": [
    "# Lets add some card information to the dataset as well. It is good to know which brand of card is used.\n",
    "user_trans_card_df = pd.merge(left=user_trans_df, right=cards_df, on='User', how='left')\n",
    "user_trans_card_df"
   ]
  },
  {
   "cell_type": "code",
   "execution_count": 27,
   "metadata": {},
   "outputs": [],
   "source": [
    "user_trans_card_df = user_trans_card_df.drop(columns=['User', 'CARD INDEX', 'Card Number', 'Expires', 'CVV', 'Cards Issued', 'Acct Open Date'])"
   ]
  },
  {
   "cell_type": "code",
   "execution_count": 28,
   "metadata": {},
   "outputs": [
    {
     "data": {
      "text/plain": [
       "(24551462, 14)"
      ]
     },
     "execution_count": 28,
     "metadata": {},
     "output_type": "execute_result"
    }
   ],
   "source": [
    "user_trans_card_df.shape"
   ]
  },
  {
   "cell_type": "code",
   "execution_count": 29,
   "metadata": {},
   "outputs": [
    {
     "name": "stderr",
     "output_type": "stream",
     "text": [
      "C:\\Users\\hoo11155\\AppData\\Local\\Temp\\1\\ipykernel_1192\\2242549063.py:1: FutureWarning: The default value of numeric_only in DataFrame.corr is deprecated. In a future version, it will default to False. Select only valid columns or specify the value of numeric_only to silence this warning.\n",
      "  corr_matrix = user_trans_card_df.corr()\n"
     ]
    },
    {
     "data": {
      "text/plain": [
       "<Axes: >"
      ]
     },
     "execution_count": 29,
     "metadata": {},
     "output_type": "execute_result"
    },
    {
     "data": {
      "image/png": "[encoded data removed]",
      "text/plain": [
       "<Figure size 640x480 with 2 Axes>"
      ]
     },
     "metadata": {},
     "output_type": "display_data"
    }
   ],
   "source": [
    "corr_matrix = user_trans_card_df.corr()\n",
    "sns.heatmap(corr_matrix, annot=True)"
   ]
  },
  {
   "cell_type": "code",
   "execution_count": 30,
   "metadata": {},
   "outputs": [],
   "source": [
    "# First oversample the 'Yes' category\n",
    "# not_fraud_df = user_trans_card_df[user_trans_card_df['Is Fraud?'] == 'Yes']\n",
    "# fraud_df = user_trans_card_df[user_trans_card_df['Is Fraud?'] == \"No\"]\n",
    "# not_fraud_oversampled = resample(not_fraud_df, replace=True, n_samples=len(fraud_df), random_state=42)\n",
    "\n",
    "# user_trans_card_upsampled_df = pd.concat([not_fraud_oversampled, fraud_df])\n",
    "# user_trans_card_upsampled_df.head()"
   ]
  },
  {
   "cell_type": "code",
   "execution_count": 31,
   "metadata": {},
   "outputs": [
    {
     "data": {
      "text/html": [
       "<div>\n",
       "<style scoped>\n",
       "    .dataframe tbody tr th:only-of-type {\n",
       "        vertical-align: middle;\n",
       "    }\n",
       "\n",
       "    .dataframe tbody tr th {\n",
       "        vertical-align: top;\n",
       "    }\n",
       "\n",
       "    .dataframe thead th {\n",
       "        text-align: right;\n",
       "    }\n",
       "</style>\n",
       "<table border=\"1\" class=\"dataframe\">\n",
       "  <thead>\n",
       "    <tr style=\"text-align: right;\">\n",
       "      <th></th>\n",
       "      <th>Amount</th>\n",
       "      <th>Use Chip</th>\n",
       "      <th>Is Fraud?</th>\n",
       "      <th>Current Age</th>\n",
       "      <th>Gender</th>\n",
       "      <th>Yearly Income - Person</th>\n",
       "      <th>Total Debt</th>\n",
       "      <th>FICO Score</th>\n",
       "      <th>Num Credit Cards</th>\n",
       "      <th>Card Brand</th>\n",
       "      <th>Card Type</th>\n",
       "      <th>Has Chip</th>\n",
       "      <th>Credit Limit</th>\n",
       "      <th>Year PIN last Changed</th>\n",
       "    </tr>\n",
       "  </thead>\n",
       "  <tbody>\n",
       "    <tr>\n",
       "      <th>23233433</th>\n",
       "      <td>$48.99</td>\n",
       "      <td>Chip Transaction</td>\n",
       "      <td>No</td>\n",
       "      <td>53</td>\n",
       "      <td>Male</td>\n",
       "      <td>$70634</td>\n",
       "      <td>$155651</td>\n",
       "      <td>682</td>\n",
       "      <td>4</td>\n",
       "      <td>Mastercard</td>\n",
       "      <td>Debit</td>\n",
       "      <td>YES</td>\n",
       "      <td>$21280</td>\n",
       "      <td>2018</td>\n",
       "    </tr>\n",
       "    <tr>\n",
       "      <th>16116785</th>\n",
       "      <td>$16.45</td>\n",
       "      <td>Online Transaction</td>\n",
       "      <td>No</td>\n",
       "      <td>43</td>\n",
       "      <td>Female</td>\n",
       "      <td>$45360</td>\n",
       "      <td>$14587</td>\n",
       "      <td>704</td>\n",
       "      <td>3</td>\n",
       "      <td>Visa</td>\n",
       "      <td>Debit</td>\n",
       "      <td>YES</td>\n",
       "      <td>$18105</td>\n",
       "      <td>2012</td>\n",
       "    </tr>\n",
       "    <tr>\n",
       "      <th>23360764</th>\n",
       "      <td>$-82.00</td>\n",
       "      <td>Chip Transaction</td>\n",
       "      <td>No</td>\n",
       "      <td>83</td>\n",
       "      <td>Female</td>\n",
       "      <td>$33811</td>\n",
       "      <td>$2206</td>\n",
       "      <td>682</td>\n",
       "      <td>7</td>\n",
       "      <td>Mastercard</td>\n",
       "      <td>Debit</td>\n",
       "      <td>YES</td>\n",
       "      <td>$16908</td>\n",
       "      <td>2013</td>\n",
       "    </tr>\n",
       "    <tr>\n",
       "      <th>21111918</th>\n",
       "      <td>$1.80</td>\n",
       "      <td>Chip Transaction</td>\n",
       "      <td>No</td>\n",
       "      <td>86</td>\n",
       "      <td>Female</td>\n",
       "      <td>$9678</td>\n",
       "      <td>$812</td>\n",
       "      <td>688</td>\n",
       "      <td>6</td>\n",
       "      <td>Amex</td>\n",
       "      <td>Credit</td>\n",
       "      <td>YES</td>\n",
       "      <td>$6500</td>\n",
       "      <td>2020</td>\n",
       "    </tr>\n",
       "    <tr>\n",
       "      <th>13333110</th>\n",
       "      <td>$10.25</td>\n",
       "      <td>Chip Transaction</td>\n",
       "      <td>No</td>\n",
       "      <td>43</td>\n",
       "      <td>Female</td>\n",
       "      <td>$24917</td>\n",
       "      <td>$36101</td>\n",
       "      <td>693</td>\n",
       "      <td>2</td>\n",
       "      <td>Mastercard</td>\n",
       "      <td>Credit</td>\n",
       "      <td>YES</td>\n",
       "      <td>$6300</td>\n",
       "      <td>2010</td>\n",
       "    </tr>\n",
       "    <tr>\n",
       "      <th>...</th>\n",
       "      <td>...</td>\n",
       "      <td>...</td>\n",
       "      <td>...</td>\n",
       "      <td>...</td>\n",
       "      <td>...</td>\n",
       "      <td>...</td>\n",
       "      <td>...</td>\n",
       "      <td>...</td>\n",
       "      <td>...</td>\n",
       "      <td>...</td>\n",
       "      <td>...</td>\n",
       "      <td>...</td>\n",
       "      <td>...</td>\n",
       "      <td>...</td>\n",
       "    </tr>\n",
       "    <tr>\n",
       "      <th>24537565</th>\n",
       "      <td>$351.51</td>\n",
       "      <td>Online Transaction</td>\n",
       "      <td>Yes</td>\n",
       "      <td>47</td>\n",
       "      <td>Female</td>\n",
       "      <td>$30942</td>\n",
       "      <td>$71066</td>\n",
       "      <td>779</td>\n",
       "      <td>3</td>\n",
       "      <td>Amex</td>\n",
       "      <td>Credit</td>\n",
       "      <td>YES</td>\n",
       "      <td>$6900</td>\n",
       "      <td>2013</td>\n",
       "    </tr>\n",
       "    <tr>\n",
       "      <th>24537566</th>\n",
       "      <td>$351.51</td>\n",
       "      <td>Online Transaction</td>\n",
       "      <td>Yes</td>\n",
       "      <td>47</td>\n",
       "      <td>Female</td>\n",
       "      <td>$30942</td>\n",
       "      <td>$71066</td>\n",
       "      <td>779</td>\n",
       "      <td>3</td>\n",
       "      <td>Visa</td>\n",
       "      <td>Credit</td>\n",
       "      <td>YES</td>\n",
       "      <td>$5700</td>\n",
       "      <td>2012</td>\n",
       "    </tr>\n",
       "    <tr>\n",
       "      <th>24537567</th>\n",
       "      <td>$188.26</td>\n",
       "      <td>Online Transaction</td>\n",
       "      <td>Yes</td>\n",
       "      <td>47</td>\n",
       "      <td>Female</td>\n",
       "      <td>$30942</td>\n",
       "      <td>$71066</td>\n",
       "      <td>779</td>\n",
       "      <td>3</td>\n",
       "      <td>Mastercard</td>\n",
       "      <td>Debit</td>\n",
       "      <td>YES</td>\n",
       "      <td>$16415</td>\n",
       "      <td>2016</td>\n",
       "    </tr>\n",
       "    <tr>\n",
       "      <th>24537568</th>\n",
       "      <td>$188.26</td>\n",
       "      <td>Online Transaction</td>\n",
       "      <td>Yes</td>\n",
       "      <td>47</td>\n",
       "      <td>Female</td>\n",
       "      <td>$30942</td>\n",
       "      <td>$71066</td>\n",
       "      <td>779</td>\n",
       "      <td>3</td>\n",
       "      <td>Amex</td>\n",
       "      <td>Credit</td>\n",
       "      <td>YES</td>\n",
       "      <td>$6900</td>\n",
       "      <td>2013</td>\n",
       "    </tr>\n",
       "    <tr>\n",
       "      <th>24537569</th>\n",
       "      <td>$188.26</td>\n",
       "      <td>Online Transaction</td>\n",
       "      <td>Yes</td>\n",
       "      <td>47</td>\n",
       "      <td>Female</td>\n",
       "      <td>$30942</td>\n",
       "      <td>$71066</td>\n",
       "      <td>779</td>\n",
       "      <td>3</td>\n",
       "      <td>Visa</td>\n",
       "      <td>Credit</td>\n",
       "      <td>YES</td>\n",
       "      <td>$5700</td>\n",
       "      <td>2012</td>\n",
       "    </tr>\n",
       "  </tbody>\n",
       "</table>\n",
       "<p>68576 rows × 14 columns</p>\n",
       "</div>"
      ],
      "text/plain": [
       "           Amount            Use Chip Is Fraud?  Current Age  Gender  \\\n",
       "23233433   $48.99    Chip Transaction        No           53    Male   \n",
       "16116785   $16.45  Online Transaction        No           43  Female   \n",
       "23360764  $-82.00    Chip Transaction        No           83  Female   \n",
       "21111918    $1.80    Chip Transaction        No           86  Female   \n",
       "13333110   $10.25    Chip Transaction        No           43  Female   \n",
       "...           ...                 ...       ...          ...     ...   \n",
       "24537565  $351.51  Online Transaction       Yes           47  Female   \n",
       "24537566  $351.51  Online Transaction       Yes           47  Female   \n",
       "24537567  $188.26  Online Transaction       Yes           47  Female   \n",
       "24537568  $188.26  Online Transaction       Yes           47  Female   \n",
       "24537569  $188.26  Online Transaction       Yes           47  Female   \n",
       "\n",
       "         Yearly Income - Person Total Debt  FICO Score  Num Credit Cards  \\\n",
       "23233433                 $70634    $155651         682                 4   \n",
       "16116785                 $45360     $14587         704                 3   \n",
       "23360764                 $33811      $2206         682                 7   \n",
       "21111918                  $9678       $812         688                 6   \n",
       "13333110                 $24917     $36101         693                 2   \n",
       "...                         ...        ...         ...               ...   \n",
       "24537565                 $30942     $71066         779                 3   \n",
       "24537566                 $30942     $71066         779                 3   \n",
       "24537567                 $30942     $71066         779                 3   \n",
       "24537568                 $30942     $71066         779                 3   \n",
       "24537569                 $30942     $71066         779                 3   \n",
       "\n",
       "          Card Brand Card Type Has Chip Credit Limit  Year PIN last Changed  \n",
       "23233433  Mastercard     Debit      YES       $21280                   2018  \n",
       "16116785        Visa     Debit      YES       $18105                   2012  \n",
       "23360764  Mastercard     Debit      YES       $16908                   2013  \n",
       "21111918        Amex    Credit      YES        $6500                   2020  \n",
       "13333110  Mastercard    Credit      YES        $6300                   2010  \n",
       "...              ...       ...      ...          ...                    ...  \n",
       "24537565        Amex    Credit      YES        $6900                   2013  \n",
       "24537566        Visa    Credit      YES        $5700                   2012  \n",
       "24537567  Mastercard     Debit      YES       $16415                   2016  \n",
       "24537568        Amex    Credit      YES        $6900                   2013  \n",
       "24537569        Visa    Credit      YES        $5700                   2012  \n",
       "\n",
       "[68576 rows x 14 columns]"
      ]
     },
     "execution_count": 31,
     "metadata": {},
     "output_type": "execute_result"
    }
   ],
   "source": [
    "# Undersampling\n",
    "not_fraud_df = user_trans_card_df[user_trans_card_df['Is Fraud?'] == 'No']\n",
    "fraud_df = user_trans_card_df[user_trans_card_df['Is Fraud?'] == \"Yes\"]\n",
    "not_fraud_undersampled = resample(not_fraud_df, replace=True, n_samples=len(fraud_df), random_state=42)\n",
    "\n",
    "user_trans_card_downsampled_df = pd.concat([not_fraud_undersampled, fraud_df])\n",
    "user_trans_card_downsampled_df"
   ]
  },
  {
   "cell_type": "code",
   "execution_count": 32,
   "metadata": {},
   "outputs": [],
   "source": [
    "user_trans_card_downsampled_df['Amount'] = user_trans_card_downsampled_df['Amount'].str[1:].astype(float)\n",
    "user_trans_card_downsampled_df['Yearly Income - Person'] = user_trans_card_downsampled_df['Yearly Income - Person'].str[1:].astype(float)\n",
    "user_trans_card_downsampled_df['Total Debt'] = user_trans_card_downsampled_df['Total Debt'].str[1:].astype(float)\n",
    "user_trans_card_downsampled_df['Credit Limit'] = user_trans_card_downsampled_df['Credit Limit'].str[1:].astype(float)"
   ]
  },
  {
   "cell_type": "code",
   "execution_count": 33,
   "metadata": {},
   "outputs": [],
   "source": [
    "# now split the data to train and test dataset to be able to measure the performance of the model\n",
    "from sklearn.model_selection import train_test_split\n",
    "\n",
    "X = user_trans_card_downsampled_df.drop('Is Fraud?', axis=1)\n",
    "X = pd.get_dummies(X)\n",
    "y = user_trans_card_downsampled_df['Is Fraud?']\n",
    "\n",
    "X_train, X_test, y_train, y_test = train_test_split(X, y, test_size=0.3, random_state=42)"
   ]
  },
  {
   "cell_type": "code",
   "execution_count": 34,
   "metadata": {},
   "outputs": [
    {
     "name": "stderr",
     "output_type": "stream",
     "text": [
      "C:\\Users\\hoo11155\\AppData\\Roaming\\Python\\Python311\\site-packages\\sklearn\\linear_model\\_logistic.py:460: ConvergenceWarning: lbfgs failed to converge (status=1):\n",
      "STOP: TOTAL NO. of ITERATIONS REACHED LIMIT.\n",
      "\n",
      "Increase the number of iterations (max_iter) or scale the data as shown in:\n",
      "    https://scikit-learn.org/stable/modules/preprocessing.html\n",
      "Please also refer to the documentation for alternative solver options:\n",
      "    https://scikit-learn.org/stable/modules/linear_model.html#logistic-regression\n",
      "  n_iter_i = _check_optimize_result(\n"
     ]
    },
    {
     "data": {
      "text/html": [
       "<style>#sk-container-id-1 {color: black;}#sk-container-id-1 pre{padding: 0;}#sk-container-id-1 div.sk-toggleable {background-color: white;}#sk-container-id-1 label.sk-toggleable__label {cursor: pointer;display: block;width: 100%;margin-bottom: 0;padding: 0.3em;box-sizing: border-box;text-align: center;}#sk-container-id-1 label.sk-toggleable__label-arrow:before {content: \"▸\";float: left;margin-right: 0.25em;color: #696969;}#sk-container-id-1 label.sk-toggleable__label-arrow:hover:before {color: black;}#sk-container-id-1 div.sk-estimator:hover label.sk-toggleable__label-arrow:before {color: black;}#sk-container-id-1 div.sk-toggleable__content {max-height: 0;max-width: 0;overflow: hidden;text-align: left;background-color: #f0f8ff;}#sk-container-id-1 div.sk-toggleable__content pre {margin: 0.2em;color: black;border-radius: 0.25em;background-color: #f0f8ff;}#sk-container-id-1 input.sk-toggleable__control:checked~div.sk-toggleable__content {max-height: 200px;max-width: 100%;overflow: auto;}#sk-container-id-1 input.sk-toggleable__control:checked~label.sk-toggleable__label-arrow:before {content: \"▾\";}#sk-container-id-1 div.sk-estimator input.sk-toggleable__control:checked~label.sk-toggleable__label {background-color: #d4ebff;}#sk-container-id-1 div.sk-label input.sk-toggleable__control:checked~label.sk-toggleable__label {background-color: #d4ebff;}#sk-container-id-1 input.sk-hidden--visually {border: 0;clip: rect(1px 1px 1px 1px);clip: rect(1px, 1px, 1px, 1px);height: 1px;margin: -1px;overflow: hidden;padding: 0;position: absolute;width: 1px;}#sk-container-id-1 div.sk-estimator {font-family: monospace;background-color: #f0f8ff;border: 1px dotted black;border-radius: 0.25em;box-sizing: border-box;margin-bottom: 0.5em;}#sk-container-id-1 div.sk-estimator:hover {background-color: #d4ebff;}#sk-container-id-1 div.sk-parallel-item::after {content: \"\";width: 100%;border-bottom: 1px solid gray;flex-grow: 1;}#sk-container-id-1 div.sk-label:hover label.sk-toggleable__label {background-color: #d4ebff;}#sk-container-id-1 div.sk-serial::before {content: \"\";position: absolute;border-left: 1px solid gray;box-sizing: border-box;top: 0;bottom: 0;left: 50%;z-index: 0;}#sk-container-id-1 div.sk-serial {display: flex;flex-direction: column;align-items: center;background-color: white;padding-right: 0.2em;padding-left: 0.2em;position: relative;}#sk-container-id-1 div.sk-item {position: relative;z-index: 1;}#sk-container-id-1 div.sk-parallel {display: flex;align-items: stretch;justify-content: center;background-color: white;position: relative;}#sk-container-id-1 div.sk-item::before, #sk-container-id-1 div.sk-parallel-item::before {content: \"\";position: absolute;border-left: 1px solid gray;box-sizing: border-box;top: 0;bottom: 0;left: 50%;z-index: -1;}#sk-container-id-1 div.sk-parallel-item {display: flex;flex-direction: column;z-index: 1;position: relative;background-color: white;}#sk-container-id-1 div.sk-parallel-item:first-child::after {align-self: flex-end;width: 50%;}#sk-container-id-1 div.sk-parallel-item:last-child::after {align-self: flex-start;width: 50%;}#sk-container-id-1 div.sk-parallel-item:only-child::after {width: 0;}#sk-container-id-1 div.sk-dashed-wrapped {border: 1px dashed gray;margin: 0 0.4em 0.5em 0.4em;box-sizing: border-box;padding-bottom: 0.4em;background-color: white;}#sk-container-id-1 div.sk-label label {font-family: monospace;font-weight: bold;display: inline-block;line-height: 1.2em;}#sk-container-id-1 div.sk-label-container {text-align: center;}#sk-container-id-1 div.sk-container {/* jupyter's `normalize.less` sets `[hidden] { display: none; }` but bootstrap.min.css set `[hidden] { display: none !important; }` so we also need the `!important` here to be able to override the default hidden behavior on the sphinx rendered scikit-learn.org. See: https://github.com/scikit-learn/scikit-learn/issues/21755 */display: inline-block !important;position: relative;}#sk-container-id-1 div.sk-text-repr-fallback {display: none;}</style><div id=\"sk-container-id-1\" class=\"sk-top-container\"><div class=\"sk-text-repr-fallback\"><pre>LogisticRegression()</pre><b>In a Jupyter environment, please rerun this cell to show the HTML representation or trust the notebook. <br />On GitHub, the HTML representation is unable to render, please try loading this page with nbviewer.org.</b></div><div class=\"sk-container\" hidden><div class=\"sk-item\"><div class=\"sk-estimator sk-toggleable\"><input class=\"sk-toggleable__control sk-hidden--visually\" id=\"sk-estimator-id-1\" type=\"checkbox\" checked><label for=\"sk-estimator-id-1\" class=\"sk-toggleable__label sk-toggleable__label-arrow\">LogisticRegression</label><div class=\"sk-toggleable__content\"><pre>LogisticRegression()</pre></div></div></div></div></div>"
      ],
      "text/plain": [
       "LogisticRegression()"
      ]
     },
     "execution_count": 34,
     "metadata": {},
     "output_type": "execute_result"
    }
   ],
   "source": [
    "from sklearn.linear_model import LogisticRegression\n",
    "\n",
    "lr = LogisticRegression()\n",
    "lr.fit(X_train, y_train)"
   ]
  },
  {
   "cell_type": "code",
   "execution_count": 40,
   "metadata": {},
   "outputs": [
    {
     "name": "stdout",
     "output_type": "stream",
     "text": [
      "Train accuracy of the Logistic Regression model: % 59.89\n"
     ]
    }
   ],
   "source": [
    "accuracy_train = lr.score(X_train, y_train)\n",
    "print(f\"Train accuracy of the Logistic Regression model: % {(accuracy_train * 100):.2f}\")"
   ]
  },
  {
   "cell_type": "code",
   "execution_count": 41,
   "metadata": {},
   "outputs": [
    {
     "name": "stdout",
     "output_type": "stream",
     "text": [
      "Test accuracy of the Logistic Regression model: % 60.54\n"
     ]
    }
   ],
   "source": [
    "accuracy_test = lr.score(X_test, y_test)\n",
    "print(f\"Test accuracy of the Logistic Regression model: %{accuracy_test * 100 : .2f}\")"
   ]
  },
  {
   "cell_type": "markdown",
   "metadata": {},
   "source": [
    "#### Random Forest Analysis"
   ]
  },
  {
   "cell_type": "code",
   "execution_count": 42,
   "metadata": {},
   "outputs": [],
   "source": [
    "from sklearn.ensemble import RandomForestClassifier"
   ]
  },
  {
   "cell_type": "code",
   "execution_count": 44,
   "metadata": {},
   "outputs": [
    {
     "data": {
      "text/html": [
       "<style>#sk-container-id-3 {color: black;}#sk-container-id-3 pre{padding: 0;}#sk-container-id-3 div.sk-toggleable {background-color: white;}#sk-container-id-3 label.sk-toggleable__label {cursor: pointer;display: block;width: 100%;margin-bottom: 0;padding: 0.3em;box-sizing: border-box;text-align: center;}#sk-container-id-3 label.sk-toggleable__label-arrow:before {content: \"▸\";float: left;margin-right: 0.25em;color: #696969;}#sk-container-id-3 label.sk-toggleable__label-arrow:hover:before {color: black;}#sk-container-id-3 div.sk-estimator:hover label.sk-toggleable__label-arrow:before {color: black;}#sk-container-id-3 div.sk-toggleable__content {max-height: 0;max-width: 0;overflow: hidden;text-align: left;background-color: #f0f8ff;}#sk-container-id-3 div.sk-toggleable__content pre {margin: 0.2em;color: black;border-radius: 0.25em;background-color: #f0f8ff;}#sk-container-id-3 input.sk-toggleable__control:checked~div.sk-toggleable__content {max-height: 200px;max-width: 100%;overflow: auto;}#sk-container-id-3 input.sk-toggleable__control:checked~label.sk-toggleable__label-arrow:before {content: \"▾\";}#sk-container-id-3 div.sk-estimator input.sk-toggleable__control:checked~label.sk-toggleable__label {background-color: #d4ebff;}#sk-container-id-3 div.sk-label input.sk-toggleable__control:checked~label.sk-toggleable__label {background-color: #d4ebff;}#sk-container-id-3 input.sk-hidden--visually {border: 0;clip: rect(1px 1px 1px 1px);clip: rect(1px, 1px, 1px, 1px);height: 1px;margin: -1px;overflow: hidden;padding: 0;position: absolute;width: 1px;}#sk-container-id-3 div.sk-estimator {font-family: monospace;background-color: #f0f8ff;border: 1px dotted black;border-radius: 0.25em;box-sizing: border-box;margin-bottom: 0.5em;}#sk-container-id-3 div.sk-estimator:hover {background-color: #d4ebff;}#sk-container-id-3 div.sk-parallel-item::after {content: \"\";width: 100%;border-bottom: 1px solid gray;flex-grow: 1;}#sk-container-id-3 div.sk-label:hover label.sk-toggleable__label {background-color: #d4ebff;}#sk-container-id-3 div.sk-serial::before {content: \"\";position: absolute;border-left: 1px solid gray;box-sizing: border-box;top: 0;bottom: 0;left: 50%;z-index: 0;}#sk-container-id-3 div.sk-serial {display: flex;flex-direction: column;align-items: center;background-color: white;padding-right: 0.2em;padding-left: 0.2em;position: relative;}#sk-container-id-3 div.sk-item {position: relative;z-index: 1;}#sk-container-id-3 div.sk-parallel {display: flex;align-items: stretch;justify-content: center;background-color: white;position: relative;}#sk-container-id-3 div.sk-item::before, #sk-container-id-3 div.sk-parallel-item::before {content: \"\";position: absolute;border-left: 1px solid gray;box-sizing: border-box;top: 0;bottom: 0;left: 50%;z-index: -1;}#sk-container-id-3 div.sk-parallel-item {display: flex;flex-direction: column;z-index: 1;position: relative;background-color: white;}#sk-container-id-3 div.sk-parallel-item:first-child::after {align-self: flex-end;width: 50%;}#sk-container-id-3 div.sk-parallel-item:last-child::after {align-self: flex-start;width: 50%;}#sk-container-id-3 div.sk-parallel-item:only-child::after {width: 0;}#sk-container-id-3 div.sk-dashed-wrapped {border: 1px dashed gray;margin: 0 0.4em 0.5em 0.4em;box-sizing: border-box;padding-bottom: 0.4em;background-color: white;}#sk-container-id-3 div.sk-label label {font-family: monospace;font-weight: bold;display: inline-block;line-height: 1.2em;}#sk-container-id-3 div.sk-label-container {text-align: center;}#sk-container-id-3 div.sk-container {/* jupyter's `normalize.less` sets `[hidden] { display: none; }` but bootstrap.min.css set `[hidden] { display: none !important; }` so we also need the `!important` here to be able to override the default hidden behavior on the sphinx rendered scikit-learn.org. See: https://github.com/scikit-learn/scikit-learn/issues/21755 */display: inline-block !important;position: relative;}#sk-container-id-3 div.sk-text-repr-fallback {display: none;}</style><div id=\"sk-container-id-3\" class=\"sk-top-container\"><div class=\"sk-text-repr-fallback\"><pre>RandomForestClassifier()</pre><b>In a Jupyter environment, please rerun this cell to show the HTML representation or trust the notebook. <br />On GitHub, the HTML representation is unable to render, please try loading this page with nbviewer.org.</b></div><div class=\"sk-container\" hidden><div class=\"sk-item\"><div class=\"sk-estimator sk-toggleable\"><input class=\"sk-toggleable__control sk-hidden--visually\" id=\"sk-estimator-id-3\" type=\"checkbox\" checked><label for=\"sk-estimator-id-3\" class=\"sk-toggleable__label sk-toggleable__label-arrow\">RandomForestClassifier</label><div class=\"sk-toggleable__content\"><pre>RandomForestClassifier()</pre></div></div></div></div></div>"
      ],
      "text/plain": [
       "RandomForestClassifier()"
      ]
     },
     "execution_count": 44,
     "metadata": {},
     "output_type": "execute_result"
    }
   ],
   "source": [
    "random_forest = RandomForestClassifier()\n",
    "random_forest.fit(X_train, y_train)"
   ]
  },
  {
   "cell_type": "code",
   "execution_count": 45,
   "metadata": {},
   "outputs": [
    {
     "name": "stdout",
     "output_type": "stream",
     "text": [
      "Train accuracy of the Random Forest model: % 99.99\n"
     ]
    }
   ],
   "source": [
    "rf_acc_train = random_forest.score(X_train, y_train)\n",
    "print(f\"Train accuracy of the Random Forest model: % {rf_acc_train * 100 :.2f}\")"
   ]
  },
  {
   "cell_type": "code",
   "execution_count": 46,
   "metadata": {},
   "outputs": [
    {
     "name": "stdout",
     "output_type": "stream",
     "text": [
      "Test accuracy of the Random Forest model: % 81.50\n"
     ]
    }
   ],
   "source": [
    "rf_ac_test = random_forest.score(X_test, y_test)\n",
    "print(f\"Test accuracy of the Random Forest model: % {rf_ac_test * 100 :.2f}\")"
   ]
  },
  {
   "cell_type": "markdown",
   "metadata": {},
   "source": [
    "#### Multi-layer Perceptron (MLP)"
   ]
  },
  {
   "cell_type": "code",
   "execution_count": 47,
   "metadata": {},
   "outputs": [],
   "source": [
    "from sklearn.neural_network import MLPClassifier"
   ]
  },
  {
   "cell_type": "code",
   "execution_count": 49,
   "metadata": {},
   "outputs": [
    {
     "data": {
      "text/html": [
       "<style>#sk-container-id-4 {color: black;}#sk-container-id-4 pre{padding: 0;}#sk-container-id-4 div.sk-toggleable {background-color: white;}#sk-container-id-4 label.sk-toggleable__label {cursor: pointer;display: block;width: 100%;margin-bottom: 0;padding: 0.3em;box-sizing: border-box;text-align: center;}#sk-container-id-4 label.sk-toggleable__label-arrow:before {content: \"▸\";float: left;margin-right: 0.25em;color: #696969;}#sk-container-id-4 label.sk-toggleable__label-arrow:hover:before {color: black;}#sk-container-id-4 div.sk-estimator:hover label.sk-toggleable__label-arrow:before {color: black;}#sk-container-id-4 div.sk-toggleable__content {max-height: 0;max-width: 0;overflow: hidden;text-align: left;background-color: #f0f8ff;}#sk-container-id-4 div.sk-toggleable__content pre {margin: 0.2em;color: black;border-radius: 0.25em;background-color: #f0f8ff;}#sk-container-id-4 input.sk-toggleable__control:checked~div.sk-toggleable__content {max-height: 200px;max-width: 100%;overflow: auto;}#sk-container-id-4 input.sk-toggleable__control:checked~label.sk-toggleable__label-arrow:before {content: \"▾\";}#sk-container-id-4 div.sk-estimator input.sk-toggleable__control:checked~label.sk-toggleable__label {background-color: #d4ebff;}#sk-container-id-4 div.sk-label input.sk-toggleable__control:checked~label.sk-toggleable__label {background-color: #d4ebff;}#sk-container-id-4 input.sk-hidden--visually {border: 0;clip: rect(1px 1px 1px 1px);clip: rect(1px, 1px, 1px, 1px);height: 1px;margin: -1px;overflow: hidden;padding: 0;position: absolute;width: 1px;}#sk-container-id-4 div.sk-estimator {font-family: monospace;background-color: #f0f8ff;border: 1px dotted black;border-radius: 0.25em;box-sizing: border-box;margin-bottom: 0.5em;}#sk-container-id-4 div.sk-estimator:hover {background-color: #d4ebff;}#sk-container-id-4 div.sk-parallel-item::after {content: \"\";width: 100%;border-bottom: 1px solid gray;flex-grow: 1;}#sk-container-id-4 div.sk-label:hover label.sk-toggleable__label {background-color: #d4ebff;}#sk-container-id-4 div.sk-serial::before {content: \"\";position: absolute;border-left: 1px solid gray;box-sizing: border-box;top: 0;bottom: 0;left: 50%;z-index: 0;}#sk-container-id-4 div.sk-serial {display: flex;flex-direction: column;align-items: center;background-color: white;padding-right: 0.2em;padding-left: 0.2em;position: relative;}#sk-container-id-4 div.sk-item {position: relative;z-index: 1;}#sk-container-id-4 div.sk-parallel {display: flex;align-items: stretch;justify-content: center;background-color: white;position: relative;}#sk-container-id-4 div.sk-item::before, #sk-container-id-4 div.sk-parallel-item::before {content: \"\";position: absolute;border-left: 1px solid gray;box-sizing: border-box;top: 0;bottom: 0;left: 50%;z-index: -1;}#sk-container-id-4 div.sk-parallel-item {display: flex;flex-direction: column;z-index: 1;position: relative;background-color: white;}#sk-container-id-4 div.sk-parallel-item:first-child::after {align-self: flex-end;width: 50%;}#sk-container-id-4 div.sk-parallel-item:last-child::after {align-self: flex-start;width: 50%;}#sk-container-id-4 div.sk-parallel-item:only-child::after {width: 0;}#sk-container-id-4 div.sk-dashed-wrapped {border: 1px dashed gray;margin: 0 0.4em 0.5em 0.4em;box-sizing: border-box;padding-bottom: 0.4em;background-color: white;}#sk-container-id-4 div.sk-label label {font-family: monospace;font-weight: bold;display: inline-block;line-height: 1.2em;}#sk-container-id-4 div.sk-label-container {text-align: center;}#sk-container-id-4 div.sk-container {/* jupyter's `normalize.less` sets `[hidden] { display: none; }` but bootstrap.min.css set `[hidden] { display: none !important; }` so we also need the `!important` here to be able to override the default hidden behavior on the sphinx rendered scikit-learn.org. See: https://github.com/scikit-learn/scikit-learn/issues/21755 */display: inline-block !important;position: relative;}#sk-container-id-4 div.sk-text-repr-fallback {display: none;}</style><div id=\"sk-container-id-4\" class=\"sk-top-container\"><div class=\"sk-text-repr-fallback\"><pre>MLPClassifier()</pre><b>In a Jupyter environment, please rerun this cell to show the HTML representation or trust the notebook. <br />On GitHub, the HTML representation is unable to render, please try loading this page with nbviewer.org.</b></div><div class=\"sk-container\" hidden><div class=\"sk-item\"><div class=\"sk-estimator sk-toggleable\"><input class=\"sk-toggleable__control sk-hidden--visually\" id=\"sk-estimator-id-4\" type=\"checkbox\" checked><label for=\"sk-estimator-id-4\" class=\"sk-toggleable__label sk-toggleable__label-arrow\">MLPClassifier</label><div class=\"sk-toggleable__content\"><pre>MLPClassifier()</pre></div></div></div></div></div>"
      ],
      "text/plain": [
       "MLPClassifier()"
      ]
     },
     "execution_count": 49,
     "metadata": {},
     "output_type": "execute_result"
    }
   ],
   "source": [
    "clf = MLPClassifier()\n",
    "clf.fit(X_train, y_train)"
   ]
  },
  {
   "cell_type": "code",
   "execution_count": 50,
   "metadata": {},
   "outputs": [
    {
     "name": "stdout",
     "output_type": "stream",
     "text": [
      "Test accuracy of the MLP model: % 50.55\n"
     ]
    }
   ],
   "source": [
    "nn_acc_train = clf.score(X_train, y_train)\n",
    "print(f\"Train accuracy of the MLP model: % {nn_acc_train * 100 :.2f}\")"
   ]
  },
  {
   "cell_type": "code",
   "execution_count": 51,
   "metadata": {},
   "outputs": [
    {
     "name": "stdout",
     "output_type": "stream",
     "text": [
      "Test accuracy of the MLP model: % 50.27\n"
     ]
    }
   ],
   "source": [
    "nn_acc_test = clf.score(X_test, y_test)\n",
    "print(f\"Test accuracy of the MLP model: % {nn_acc_test * 100 :.2f}\")"
   ]
  },
  {
   "cell_type": "markdown",
   "metadata": {},
   "source": [
    "The accuracy of the MLP with just one hidden layer did not perform well. Now let's try with different artictures and improve the performance of the model."
   ]
  },
  {
   "cell_type": "code",
   "execution_count": 52,
   "metadata": {},
   "outputs": [],
   "source": [
    "from sklearn.preprocessing import StandardScaler"
   ]
  },
  {
   "cell_type": "code",
   "execution_count": 53,
   "metadata": {},
   "outputs": [],
   "source": [
    "scaler = StandardScaler()\n",
    "X_train_std = scaler.fit_transform(X_train)"
   ]
  },
  {
   "cell_type": "code",
   "execution_count": 56,
   "metadata": {},
   "outputs": [
    {
     "name": "stderr",
     "output_type": "stream",
     "text": [
      "C:\\Users\\hoo11155\\AppData\\Roaming\\Python\\Python311\\site-packages\\sklearn\\neural_network\\_multilayer_perceptron.py:691: ConvergenceWarning: Stochastic Optimizer: Maximum iterations (200) reached and the optimization hasn't converged yet.\n",
      "  warnings.warn(\n"
     ]
    },
    {
     "data": {
      "text/html": [
       "<style>#sk-container-id-5 {color: black;}#sk-container-id-5 pre{padding: 0;}#sk-container-id-5 div.sk-toggleable {background-color: white;}#sk-container-id-5 label.sk-toggleable__label {cursor: pointer;display: block;width: 100%;margin-bottom: 0;padding: 0.3em;box-sizing: border-box;text-align: center;}#sk-container-id-5 label.sk-toggleable__label-arrow:before {content: \"▸\";float: left;margin-right: 0.25em;color: #696969;}#sk-container-id-5 label.sk-toggleable__label-arrow:hover:before {color: black;}#sk-container-id-5 div.sk-estimator:hover label.sk-toggleable__label-arrow:before {color: black;}#sk-container-id-5 div.sk-toggleable__content {max-height: 0;max-width: 0;overflow: hidden;text-align: left;background-color: #f0f8ff;}#sk-container-id-5 div.sk-toggleable__content pre {margin: 0.2em;color: black;border-radius: 0.25em;background-color: #f0f8ff;}#sk-container-id-5 input.sk-toggleable__control:checked~div.sk-toggleable__content {max-height: 200px;max-width: 100%;overflow: auto;}#sk-container-id-5 input.sk-toggleable__control:checked~label.sk-toggleable__label-arrow:before {content: \"▾\";}#sk-container-id-5 div.sk-estimator input.sk-toggleable__control:checked~label.sk-toggleable__label {background-color: #d4ebff;}#sk-container-id-5 div.sk-label input.sk-toggleable__control:checked~label.sk-toggleable__label {background-color: #d4ebff;}#sk-container-id-5 input.sk-hidden--visually {border: 0;clip: rect(1px 1px 1px 1px);clip: rect(1px, 1px, 1px, 1px);height: 1px;margin: -1px;overflow: hidden;padding: 0;position: absolute;width: 1px;}#sk-container-id-5 div.sk-estimator {font-family: monospace;background-color: #f0f8ff;border: 1px dotted black;border-radius: 0.25em;box-sizing: border-box;margin-bottom: 0.5em;}#sk-container-id-5 div.sk-estimator:hover {background-color: #d4ebff;}#sk-container-id-5 div.sk-parallel-item::after {content: \"\";width: 100%;border-bottom: 1px solid gray;flex-grow: 1;}#sk-container-id-5 div.sk-label:hover label.sk-toggleable__label {background-color: #d4ebff;}#sk-container-id-5 div.sk-serial::before {content: \"\";position: absolute;border-left: 1px solid gray;box-sizing: border-box;top: 0;bottom: 0;left: 50%;z-index: 0;}#sk-container-id-5 div.sk-serial {display: flex;flex-direction: column;align-items: center;background-color: white;padding-right: 0.2em;padding-left: 0.2em;position: relative;}#sk-container-id-5 div.sk-item {position: relative;z-index: 1;}#sk-container-id-5 div.sk-parallel {display: flex;align-items: stretch;justify-content: center;background-color: white;position: relative;}#sk-container-id-5 div.sk-item::before, #sk-container-id-5 div.sk-parallel-item::before {content: \"\";position: absolute;border-left: 1px solid gray;box-sizing: border-box;top: 0;bottom: 0;left: 50%;z-index: -1;}#sk-container-id-5 div.sk-parallel-item {display: flex;flex-direction: column;z-index: 1;position: relative;background-color: white;}#sk-container-id-5 div.sk-parallel-item:first-child::after {align-self: flex-end;width: 50%;}#sk-container-id-5 div.sk-parallel-item:last-child::after {align-self: flex-start;width: 50%;}#sk-container-id-5 div.sk-parallel-item:only-child::after {width: 0;}#sk-container-id-5 div.sk-dashed-wrapped {border: 1px dashed gray;margin: 0 0.4em 0.5em 0.4em;box-sizing: border-box;padding-bottom: 0.4em;background-color: white;}#sk-container-id-5 div.sk-label label {font-family: monospace;font-weight: bold;display: inline-block;line-height: 1.2em;}#sk-container-id-5 div.sk-label-container {text-align: center;}#sk-container-id-5 div.sk-container {/* jupyter's `normalize.less` sets `[hidden] { display: none; }` but bootstrap.min.css set `[hidden] { display: none !important; }` so we also need the `!important` here to be able to override the default hidden behavior on the sphinx rendered scikit-learn.org. See: https://github.com/scikit-learn/scikit-learn/issues/21755 */display: inline-block !important;position: relative;}#sk-container-id-5 div.sk-text-repr-fallback {display: none;}</style><div id=\"sk-container-id-5\" class=\"sk-top-container\"><div class=\"sk-text-repr-fallback\"><pre>MLPClassifier()</pre><b>In a Jupyter environment, please rerun this cell to show the HTML representation or trust the notebook. <br />On GitHub, the HTML representation is unable to render, please try loading this page with nbviewer.org.</b></div><div class=\"sk-container\" hidden><div class=\"sk-item\"><div class=\"sk-estimator sk-toggleable\"><input class=\"sk-toggleable__control sk-hidden--visually\" id=\"sk-estimator-id-5\" type=\"checkbox\" checked><label for=\"sk-estimator-id-5\" class=\"sk-toggleable__label sk-toggleable__label-arrow\">MLPClassifier</label><div class=\"sk-toggleable__content\"><pre>MLPClassifier()</pre></div></div></div></div></div>"
      ],
      "text/plain": [
       "MLPClassifier()"
      ]
     },
     "execution_count": 56,
     "metadata": {},
     "output_type": "execute_result"
    }
   ],
   "source": [
    "clf_std = MLPClassifier()\n",
    "clf_std.fit(X_train_std, y_train)"
   ]
  },
  {
   "cell_type": "code",
   "execution_count": 58,
   "metadata": {},
   "outputs": [
    {
     "name": "stdout",
     "output_type": "stream",
     "text": [
      "Train accuracy of the MLP model: % 50.08\n"
     ]
    },
    {
     "name": "stderr",
     "output_type": "stream",
     "text": [
      "C:\\Users\\hoo11155\\AppData\\Roaming\\Python\\Python311\\site-packages\\sklearn\\base.py:458: UserWarning: X has feature names, but MLPClassifier was fitted without feature names\n",
      "  warnings.warn(\n"
     ]
    }
   ],
   "source": [
    "nn_acc_train_std = clf_std.score(X_train, y_train)\n",
    "print(f\"Train accuracy of the MLP model: % {nn_acc_train_std * 100 :.2f}\")"
   ]
  },
  {
   "cell_type": "code",
   "execution_count": 59,
   "metadata": {},
   "outputs": [
    {
     "name": "stdout",
     "output_type": "stream",
     "text": [
      "Test accuracy of the MLP model: % 72.54\n"
     ]
    }
   ],
   "source": [
    "nn_acc_test_std = clf_std.score(scaler.transform(X_test), y_test)\n",
    "print(f\"Test accuracy of the MLP model: % {nn_acc_test_std * 100 :.2f}\")"
   ]
  },
  {
   "cell_type": "markdown",
   "metadata": {},
   "source": [
    "### Confusion matrix"
   ]
  },
  {
   "cell_type": "code",
   "execution_count": 64,
   "metadata": {},
   "outputs": [],
   "source": [
    "from sklearn.metrics import confusion_matrix, ConfusionMatrixDisplay"
   ]
  },
  {
   "cell_type": "code",
   "execution_count": 69,
   "metadata": {},
   "outputs": [],
   "source": [
    "def plot_confusion_matrix(model):\n",
    "    cm = confusion_matrix(model.predict(X_test), y_test)\n",
    "    ConfusionMatrixDisplay(confusion_matrix=cm,\n",
    "                        display_labels=lr.classes_).plot()"
   ]
  },
  {
   "cell_type": "code",
   "execution_count": 70,
   "metadata": {},
   "outputs": [
    {
     "data": {
      "image/png": "[encoded data removed]",
      "text/plain": [
       "<Figure size 640x480 with 2 Axes>"
      ]
     },
     "metadata": {},
     "output_type": "display_data"
    }
   ],
   "source": [
    "plot_confusion_matrix(lr)"
   ]
  },
  {
   "cell_type": "code",
   "execution_count": 71,
   "metadata": {},
   "outputs": [
    {
     "data": {
      "image/png": "[encoded data removed]",
      "text/plain": [
       "<Figure size 640x480 with 2 Axes>"
      ]
     },
     "metadata": {},
     "output_type": "display_data"
    }
   ],
   "source": [
    "plot_confusion_matrix(random_forest)"
   ]
  },
  {
   "cell_type": "code",
   "execution_count": 73,
   "metadata": {},
   "outputs": [
    {
     "name": "stderr",
     "output_type": "stream",
     "text": [
      "C:\\Users\\hoo11155\\AppData\\Roaming\\Python\\Python311\\site-packages\\sklearn\\base.py:458: UserWarning: X has feature names, but MLPClassifier was fitted without feature names\n",
      "  warnings.warn(\n"
     ]
    },
    {
     "data": {
      "image/png": "[encoded data removed]",
      "text/plain": [
       "<Figure size 640x480 with 2 Axes>"
      ]
     },
     "metadata": {},
     "output_type": "display_data"
    }
   ],
   "source": []
  },
  {
   "cell_type": "code",
   "execution_count": 74,
   "metadata": {},
   "outputs": [
    {
     "data": {
      "text/plain": [
       "<sklearn.metrics._plot.confusion_matrix.ConfusionMatrixDisplay at 0x2461c2e4810>"
      ]
     },
     "execution_count": 74,
     "metadata": {},
     "output_type": "execute_result"
    },
    {
     "data": {
      "image/png": "[encoded data removed]",
      "text/plain": [
       "<Figure size 640x480 with 2 Axes>"
      ]
     },
     "metadata": {},
     "output_type": "display_data"
    }
   ],
   "source": [
    "cm = confusion_matrix(clf.predict(X_test), y_test)\n",
    "ConfusionMatrixDisplay(confusion_matrix=cm,\n",
    "                    display_labels=lr.classes_).plot()"
   ]
  },
  {
   "cell_type": "code",
   "execution_count": 81,
   "metadata": {},
   "outputs": [
    {
     "data": {
      "text/plain": [
       "Yes    10323\n",
       "No     10250\n",
       "Name: Is Fraud?, dtype: int64"
      ]
     },
     "execution_count": 81,
     "metadata": {},
     "output_type": "execute_result"
    }
   ],
   "source": [
    "y_test.value_counts()"
   ]
  },
  {
   "cell_type": "code",
   "execution_count": null,
   "metadata": {},
   "outputs": [],
   "source": []
  }
 ],
 "metadata": {
  "kernelspec": {
   "display_name": "base",
   "language": "python",
   "name": "python3"
  },
  "language_info": {
   "codemirror_mode": {
    "name": "ipython",
    "version": 3
   },
   "file_extension": ".py",
   "mimetype": "text/x-python",
   "name": "python",
   "nbconvert_exporter": "python",
   "pygments_lexer": "ipython3",
   "version": "3.11.4"
  }
 },
 "nbformat": 4,
 "nbformat_minor": 2
}
